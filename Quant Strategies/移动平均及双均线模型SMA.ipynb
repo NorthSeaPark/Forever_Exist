{
 "cells": [
  {
   "cell_type": "code",
   "execution_count": 1,
   "id": "5c408921",
   "metadata": {},
   "outputs": [],
   "source": [
    "%matplotlib inline\n",
    "import matplotlib.pyplot as plt\n",
    "import seaborn\n",
    "# plt.style.use('seaborn')             ggplot;\n",
    "import matplotlib as mpl\n",
    "mpl.rcParams['font.family'] = 'serif'               #解决一些字体显示乱码问题\n",
    "import warnings; warnings.simplefilter('ignore')       #忽略警告信息；"
   ]
  },
  {
   "cell_type": "code",
   "execution_count": 2,
   "id": "b655d6f6",
   "metadata": {},
   "outputs": [],
   "source": [
    "import numpy as np\n",
    "import pandas as pd\n",
    "import tushare as ts"
   ]
  },
  {
   "cell_type": "code",
   "execution_count": 3,
   "id": "8b9581ef",
   "metadata": {},
   "outputs": [
    {
     "name": "stdout",
     "output_type": "stream",
     "text": [
      "本接口即将停止更新，请尽快使用Pro版接口：https://waditu.com/document/2\n"
     ]
    }
   ],
   "source": [
    "data = ts.get_k_data('600030', start = '2019-01-01', end = '2021-12-31')"
   ]
  },
  {
   "cell_type": "code",
   "execution_count": 4,
   "id": "5bc06b94",
   "metadata": {},
   "outputs": [
    {
     "data": {
      "text/html": [
       "<div>\n",
       "<style scoped>\n",
       "    .dataframe tbody tr th:only-of-type {\n",
       "        vertical-align: middle;\n",
       "    }\n",
       "\n",
       "    .dataframe tbody tr th {\n",
       "        vertical-align: top;\n",
       "    }\n",
       "\n",
       "    .dataframe thead th {\n",
       "        text-align: right;\n",
       "    }\n",
       "</style>\n",
       "<table border=\"1\" class=\"dataframe\">\n",
       "  <thead>\n",
       "    <tr style=\"text-align: right;\">\n",
       "      <th></th>\n",
       "      <th>date</th>\n",
       "      <th>open</th>\n",
       "      <th>close</th>\n",
       "      <th>high</th>\n",
       "      <th>low</th>\n",
       "      <th>volume</th>\n",
       "      <th>code</th>\n",
       "    </tr>\n",
       "  </thead>\n",
       "  <tbody>\n",
       "    <tr>\n",
       "      <th>0</th>\n",
       "      <td>2019-01-10</td>\n",
       "      <td>17.15</td>\n",
       "      <td>16.80</td>\n",
       "      <td>17.15</td>\n",
       "      <td>16.75</td>\n",
       "      <td>2186844.0</td>\n",
       "      <td>600030</td>\n",
       "    </tr>\n",
       "    <tr>\n",
       "      <th>1</th>\n",
       "      <td>2019-01-11</td>\n",
       "      <td>16.80</td>\n",
       "      <td>16.97</td>\n",
       "      <td>17.03</td>\n",
       "      <td>16.74</td>\n",
       "      <td>1127695.0</td>\n",
       "      <td>600030</td>\n",
       "    </tr>\n",
       "    <tr>\n",
       "      <th>2</th>\n",
       "      <td>2019-01-14</td>\n",
       "      <td>17.11</td>\n",
       "      <td>17.00</td>\n",
       "      <td>17.26</td>\n",
       "      <td>16.97</td>\n",
       "      <td>861108.0</td>\n",
       "      <td>600030</td>\n",
       "    </tr>\n",
       "    <tr>\n",
       "      <th>3</th>\n",
       "      <td>2019-01-15</td>\n",
       "      <td>17.04</td>\n",
       "      <td>17.60</td>\n",
       "      <td>17.72</td>\n",
       "      <td>17.01</td>\n",
       "      <td>1805469.0</td>\n",
       "      <td>600030</td>\n",
       "    </tr>\n",
       "    <tr>\n",
       "      <th>4</th>\n",
       "      <td>2019-01-16</td>\n",
       "      <td>17.63</td>\n",
       "      <td>17.64</td>\n",
       "      <td>17.75</td>\n",
       "      <td>17.48</td>\n",
       "      <td>1104443.0</td>\n",
       "      <td>600030</td>\n",
       "    </tr>\n",
       "  </tbody>\n",
       "</table>\n",
       "</div>"
      ],
      "text/plain": [
       "         date   open  close   high    low     volume    code\n",
       "0  2019-01-10  17.15  16.80  17.15  16.75  2186844.0  600030\n",
       "1  2019-01-11  16.80  16.97  17.03  16.74  1127695.0  600030\n",
       "2  2019-01-14  17.11  17.00  17.26  16.97   861108.0  600030\n",
       "3  2019-01-15  17.04  17.60  17.72  17.01  1805469.0  600030\n",
       "4  2019-01-16  17.63  17.64  17.75  17.48  1104443.0  600030"
      ]
     },
     "execution_count": 4,
     "metadata": {},
     "output_type": "execute_result"
    }
   ],
   "source": [
    "data.head()"
   ]
  },
  {
   "cell_type": "code",
   "execution_count": 5,
   "id": "0be3c4f2",
   "metadata": {},
   "outputs": [
    {
     "data": {
      "text/html": [
       "<div>\n",
       "<style scoped>\n",
       "    .dataframe tbody tr th:only-of-type {\n",
       "        vertical-align: middle;\n",
       "    }\n",
       "\n",
       "    .dataframe tbody tr th {\n",
       "        vertical-align: top;\n",
       "    }\n",
       "\n",
       "    .dataframe thead th {\n",
       "        text-align: right;\n",
       "    }\n",
       "</style>\n",
       "<table border=\"1\" class=\"dataframe\">\n",
       "  <thead>\n",
       "    <tr style=\"text-align: right;\">\n",
       "      <th></th>\n",
       "      <th>date</th>\n",
       "      <th>open</th>\n",
       "      <th>close</th>\n",
       "      <th>high</th>\n",
       "      <th>low</th>\n",
       "      <th>volume</th>\n",
       "      <th>code</th>\n",
       "    </tr>\n",
       "  </thead>\n",
       "  <tbody>\n",
       "    <tr>\n",
       "      <th>718</th>\n",
       "      <td>2021-12-27</td>\n",
       "      <td>25.81</td>\n",
       "      <td>26.00</td>\n",
       "      <td>26.05</td>\n",
       "      <td>25.64</td>\n",
       "      <td>451896.0</td>\n",
       "      <td>600030</td>\n",
       "    </tr>\n",
       "    <tr>\n",
       "      <th>719</th>\n",
       "      <td>2021-12-28</td>\n",
       "      <td>26.10</td>\n",
       "      <td>26.05</td>\n",
       "      <td>26.28</td>\n",
       "      <td>25.84</td>\n",
       "      <td>549142.0</td>\n",
       "      <td>600030</td>\n",
       "    </tr>\n",
       "    <tr>\n",
       "      <th>720</th>\n",
       "      <td>2021-12-29</td>\n",
       "      <td>26.13</td>\n",
       "      <td>25.88</td>\n",
       "      <td>26.13</td>\n",
       "      <td>25.83</td>\n",
       "      <td>485993.0</td>\n",
       "      <td>600030</td>\n",
       "    </tr>\n",
       "    <tr>\n",
       "      <th>721</th>\n",
       "      <td>2021-12-30</td>\n",
       "      <td>25.85</td>\n",
       "      <td>26.37</td>\n",
       "      <td>26.62</td>\n",
       "      <td>25.85</td>\n",
       "      <td>781346.0</td>\n",
       "      <td>600030</td>\n",
       "    </tr>\n",
       "    <tr>\n",
       "      <th>722</th>\n",
       "      <td>2021-12-31</td>\n",
       "      <td>26.46</td>\n",
       "      <td>26.41</td>\n",
       "      <td>26.69</td>\n",
       "      <td>26.39</td>\n",
       "      <td>670511.0</td>\n",
       "      <td>600030</td>\n",
       "    </tr>\n",
       "  </tbody>\n",
       "</table>\n",
       "</div>"
      ],
      "text/plain": [
       "           date   open  close   high    low    volume    code\n",
       "718  2021-12-27  25.81  26.00  26.05  25.64  451896.0  600030\n",
       "719  2021-12-28  26.10  26.05  26.28  25.84  549142.0  600030\n",
       "720  2021-12-29  26.13  25.88  26.13  25.83  485993.0  600030\n",
       "721  2021-12-30  25.85  26.37  26.62  25.85  781346.0  600030\n",
       "722  2021-12-31  26.46  26.41  26.69  26.39  670511.0  600030"
      ]
     },
     "execution_count": 5,
     "metadata": {},
     "output_type": "execute_result"
    }
   ],
   "source": [
    "data.tail()"
   ]
  },
  {
   "cell_type": "code",
   "execution_count": 6,
   "id": "80ec85ac",
   "metadata": {},
   "outputs": [],
   "source": [
    "data['SMA_20'] = data['close'].rolling(20).mean()"
   ]
  },
  {
   "cell_type": "code",
   "execution_count": 7,
   "id": "81d4c043",
   "metadata": {},
   "outputs": [],
   "source": [
    "data['SMA_60'] = data['close'].rolling(60).mean()"
   ]
  },
  {
   "cell_type": "code",
   "execution_count": 8,
   "id": "d9aff16e",
   "metadata": {},
   "outputs": [
    {
     "data": {
      "text/html": [
       "<div>\n",
       "<style scoped>\n",
       "    .dataframe tbody tr th:only-of-type {\n",
       "        vertical-align: middle;\n",
       "    }\n",
       "\n",
       "    .dataframe tbody tr th {\n",
       "        vertical-align: top;\n",
       "    }\n",
       "\n",
       "    .dataframe thead th {\n",
       "        text-align: right;\n",
       "    }\n",
       "</style>\n",
       "<table border=\"1\" class=\"dataframe\">\n",
       "  <thead>\n",
       "    <tr style=\"text-align: right;\">\n",
       "      <th></th>\n",
       "      <th>date</th>\n",
       "      <th>open</th>\n",
       "      <th>close</th>\n",
       "      <th>high</th>\n",
       "      <th>low</th>\n",
       "      <th>volume</th>\n",
       "      <th>code</th>\n",
       "      <th>SMA_20</th>\n",
       "      <th>SMA_60</th>\n",
       "    </tr>\n",
       "  </thead>\n",
       "  <tbody>\n",
       "    <tr>\n",
       "      <th>718</th>\n",
       "      <td>2021-12-27</td>\n",
       "      <td>25.81</td>\n",
       "      <td>26.00</td>\n",
       "      <td>26.05</td>\n",
       "      <td>25.64</td>\n",
       "      <td>451896.0</td>\n",
       "      <td>600030</td>\n",
       "      <td>25.8435</td>\n",
       "      <td>25.286167</td>\n",
       "    </tr>\n",
       "    <tr>\n",
       "      <th>719</th>\n",
       "      <td>2021-12-28</td>\n",
       "      <td>26.10</td>\n",
       "      <td>26.05</td>\n",
       "      <td>26.28</td>\n",
       "      <td>25.84</td>\n",
       "      <td>549142.0</td>\n",
       "      <td>600030</td>\n",
       "      <td>25.9575</td>\n",
       "      <td>25.289333</td>\n",
       "    </tr>\n",
       "    <tr>\n",
       "      <th>720</th>\n",
       "      <td>2021-12-29</td>\n",
       "      <td>26.13</td>\n",
       "      <td>25.88</td>\n",
       "      <td>26.13</td>\n",
       "      <td>25.83</td>\n",
       "      <td>485993.0</td>\n",
       "      <td>600030</td>\n",
       "      <td>26.0400</td>\n",
       "      <td>25.293833</td>\n",
       "    </tr>\n",
       "    <tr>\n",
       "      <th>721</th>\n",
       "      <td>2021-12-30</td>\n",
       "      <td>25.85</td>\n",
       "      <td>26.37</td>\n",
       "      <td>26.62</td>\n",
       "      <td>25.85</td>\n",
       "      <td>781346.0</td>\n",
       "      <td>600030</td>\n",
       "      <td>26.1385</td>\n",
       "      <td>25.312000</td>\n",
       "    </tr>\n",
       "    <tr>\n",
       "      <th>722</th>\n",
       "      <td>2021-12-31</td>\n",
       "      <td>26.46</td>\n",
       "      <td>26.41</td>\n",
       "      <td>26.69</td>\n",
       "      <td>26.39</td>\n",
       "      <td>670511.0</td>\n",
       "      <td>600030</td>\n",
       "      <td>26.2200</td>\n",
       "      <td>25.323000</td>\n",
       "    </tr>\n",
       "  </tbody>\n",
       "</table>\n",
       "</div>"
      ],
      "text/plain": [
       "           date   open  close   high    low    volume    code   SMA_20  \\\n",
       "718  2021-12-27  25.81  26.00  26.05  25.64  451896.0  600030  25.8435   \n",
       "719  2021-12-28  26.10  26.05  26.28  25.84  549142.0  600030  25.9575   \n",
       "720  2021-12-29  26.13  25.88  26.13  25.83  485993.0  600030  26.0400   \n",
       "721  2021-12-30  25.85  26.37  26.62  25.85  781346.0  600030  26.1385   \n",
       "722  2021-12-31  26.46  26.41  26.69  26.39  670511.0  600030  26.2200   \n",
       "\n",
       "        SMA_60  \n",
       "718  25.286167  \n",
       "719  25.289333  \n",
       "720  25.293833  \n",
       "721  25.312000  \n",
       "722  25.323000  "
      ]
     },
     "execution_count": 8,
     "metadata": {},
     "output_type": "execute_result"
    }
   ],
   "source": [
    "data.tail()"
   ]
  },
  {
   "cell_type": "code",
   "execution_count": 9,
   "id": "4f20b990",
   "metadata": {},
   "outputs": [
    {
     "data": {
      "text/plain": [
       "<AxesSubplot:>"
      ]
     },
     "execution_count": 9,
     "metadata": {},
     "output_type": "execute_result"
    },
    {
     "data": {
      "image/png": "[encoded data removed]",
      "text/plain": [
       "<Figure size 720x432 with 1 Axes>"
      ]
     },
     "metadata": {
      "needs_background": "light"
     },
     "output_type": "display_data"
    }
   ],
   "source": [
    "data[['close', 'SMA_20', 'SMA_60']].plot(figsize = (10,6))"
   ]
  },
  {
   "cell_type": "code",
   "execution_count": 10,
   "id": "0a53734e",
   "metadata": {},
   "outputs": [],
   "source": [
    "#计算股票的return\n",
    "data['returns'] = np.log(data['close']/data['close'].shift(1))"
   ]
  },
  {
   "cell_type": "code",
   "execution_count": 11,
   "id": "a27b0851",
   "metadata": {},
   "outputs": [],
   "source": [
    "data['returns_dis'] = data['close'].pct_change()"
   ]
  },
  {
   "cell_type": "code",
   "execution_count": 12,
   "id": "1700876c",
   "metadata": {},
   "outputs": [
    {
     "data": {
      "text/html": [
       "<div>\n",
       "<style scoped>\n",
       "    .dataframe tbody tr th:only-of-type {\n",
       "        vertical-align: middle;\n",
       "    }\n",
       "\n",
       "    .dataframe tbody tr th {\n",
       "        vertical-align: top;\n",
       "    }\n",
       "\n",
       "    .dataframe thead th {\n",
       "        text-align: right;\n",
       "    }\n",
       "</style>\n",
       "<table border=\"1\" class=\"dataframe\">\n",
       "  <thead>\n",
       "    <tr style=\"text-align: right;\">\n",
       "      <th></th>\n",
       "      <th>date</th>\n",
       "      <th>open</th>\n",
       "      <th>close</th>\n",
       "      <th>high</th>\n",
       "      <th>low</th>\n",
       "      <th>volume</th>\n",
       "      <th>code</th>\n",
       "      <th>SMA_20</th>\n",
       "      <th>SMA_60</th>\n",
       "      <th>returns</th>\n",
       "      <th>returns_dis</th>\n",
       "    </tr>\n",
       "  </thead>\n",
       "  <tbody>\n",
       "    <tr>\n",
       "      <th>0</th>\n",
       "      <td>2019-01-10</td>\n",
       "      <td>17.15</td>\n",
       "      <td>16.80</td>\n",
       "      <td>17.15</td>\n",
       "      <td>16.75</td>\n",
       "      <td>2186844.0</td>\n",
       "      <td>600030</td>\n",
       "      <td>NaN</td>\n",
       "      <td>NaN</td>\n",
       "      <td>NaN</td>\n",
       "      <td>NaN</td>\n",
       "    </tr>\n",
       "    <tr>\n",
       "      <th>1</th>\n",
       "      <td>2019-01-11</td>\n",
       "      <td>16.80</td>\n",
       "      <td>16.97</td>\n",
       "      <td>17.03</td>\n",
       "      <td>16.74</td>\n",
       "      <td>1127695.0</td>\n",
       "      <td>600030</td>\n",
       "      <td>NaN</td>\n",
       "      <td>NaN</td>\n",
       "      <td>0.010068</td>\n",
       "      <td>0.010119</td>\n",
       "    </tr>\n",
       "    <tr>\n",
       "      <th>2</th>\n",
       "      <td>2019-01-14</td>\n",
       "      <td>17.11</td>\n",
       "      <td>17.00</td>\n",
       "      <td>17.26</td>\n",
       "      <td>16.97</td>\n",
       "      <td>861108.0</td>\n",
       "      <td>600030</td>\n",
       "      <td>NaN</td>\n",
       "      <td>NaN</td>\n",
       "      <td>0.001766</td>\n",
       "      <td>0.001768</td>\n",
       "    </tr>\n",
       "    <tr>\n",
       "      <th>3</th>\n",
       "      <td>2019-01-15</td>\n",
       "      <td>17.04</td>\n",
       "      <td>17.60</td>\n",
       "      <td>17.72</td>\n",
       "      <td>17.01</td>\n",
       "      <td>1805469.0</td>\n",
       "      <td>600030</td>\n",
       "      <td>NaN</td>\n",
       "      <td>NaN</td>\n",
       "      <td>0.034686</td>\n",
       "      <td>0.035294</td>\n",
       "    </tr>\n",
       "    <tr>\n",
       "      <th>4</th>\n",
       "      <td>2019-01-16</td>\n",
       "      <td>17.63</td>\n",
       "      <td>17.64</td>\n",
       "      <td>17.75</td>\n",
       "      <td>17.48</td>\n",
       "      <td>1104443.0</td>\n",
       "      <td>600030</td>\n",
       "      <td>NaN</td>\n",
       "      <td>NaN</td>\n",
       "      <td>0.002270</td>\n",
       "      <td>0.002273</td>\n",
       "    </tr>\n",
       "  </tbody>\n",
       "</table>\n",
       "</div>"
      ],
      "text/plain": [
       "         date   open  close   high    low     volume    code  SMA_20  SMA_60  \\\n",
       "0  2019-01-10  17.15  16.80  17.15  16.75  2186844.0  600030     NaN     NaN   \n",
       "1  2019-01-11  16.80  16.97  17.03  16.74  1127695.0  600030     NaN     NaN   \n",
       "2  2019-01-14  17.11  17.00  17.26  16.97   861108.0  600030     NaN     NaN   \n",
       "3  2019-01-15  17.04  17.60  17.72  17.01  1805469.0  600030     NaN     NaN   \n",
       "4  2019-01-16  17.63  17.64  17.75  17.48  1104443.0  600030     NaN     NaN   \n",
       "\n",
       "    returns  returns_dis  \n",
       "0       NaN          NaN  \n",
       "1  0.010068     0.010119  \n",
       "2  0.001766     0.001768  \n",
       "3  0.034686     0.035294  \n",
       "4  0.002270     0.002273  "
      ]
     },
     "execution_count": 12,
     "metadata": {},
     "output_type": "execute_result"
    }
   ],
   "source": [
    "data.head()"
   ]
  },
  {
   "cell_type": "code",
   "execution_count": 13,
   "id": "51b2c56c",
   "metadata": {},
   "outputs": [
    {
     "data": {
      "text/html": [
       "<div>\n",
       "<style scoped>\n",
       "    .dataframe tbody tr th:only-of-type {\n",
       "        vertical-align: middle;\n",
       "    }\n",
       "\n",
       "    .dataframe tbody tr th {\n",
       "        vertical-align: top;\n",
       "    }\n",
       "\n",
       "    .dataframe thead th {\n",
       "        text-align: right;\n",
       "    }\n",
       "</style>\n",
       "<table border=\"1\" class=\"dataframe\">\n",
       "  <thead>\n",
       "    <tr style=\"text-align: right;\">\n",
       "      <th></th>\n",
       "      <th>date</th>\n",
       "      <th>open</th>\n",
       "      <th>close</th>\n",
       "      <th>high</th>\n",
       "      <th>low</th>\n",
       "      <th>volume</th>\n",
       "      <th>code</th>\n",
       "      <th>SMA_20</th>\n",
       "      <th>SMA_60</th>\n",
       "      <th>returns</th>\n",
       "      <th>returns_dis</th>\n",
       "    </tr>\n",
       "  </thead>\n",
       "  <tbody>\n",
       "    <tr>\n",
       "      <th>718</th>\n",
       "      <td>2021-12-27</td>\n",
       "      <td>25.81</td>\n",
       "      <td>26.00</td>\n",
       "      <td>26.05</td>\n",
       "      <td>25.64</td>\n",
       "      <td>451896.0</td>\n",
       "      <td>600030</td>\n",
       "      <td>25.8435</td>\n",
       "      <td>25.286167</td>\n",
       "      <td>0.011995</td>\n",
       "      <td>0.012067</td>\n",
       "    </tr>\n",
       "    <tr>\n",
       "      <th>719</th>\n",
       "      <td>2021-12-28</td>\n",
       "      <td>26.10</td>\n",
       "      <td>26.05</td>\n",
       "      <td>26.28</td>\n",
       "      <td>25.84</td>\n",
       "      <td>549142.0</td>\n",
       "      <td>600030</td>\n",
       "      <td>25.9575</td>\n",
       "      <td>25.289333</td>\n",
       "      <td>0.001921</td>\n",
       "      <td>0.001923</td>\n",
       "    </tr>\n",
       "    <tr>\n",
       "      <th>720</th>\n",
       "      <td>2021-12-29</td>\n",
       "      <td>26.13</td>\n",
       "      <td>25.88</td>\n",
       "      <td>26.13</td>\n",
       "      <td>25.83</td>\n",
       "      <td>485993.0</td>\n",
       "      <td>600030</td>\n",
       "      <td>26.0400</td>\n",
       "      <td>25.293833</td>\n",
       "      <td>-0.006547</td>\n",
       "      <td>-0.006526</td>\n",
       "    </tr>\n",
       "    <tr>\n",
       "      <th>721</th>\n",
       "      <td>2021-12-30</td>\n",
       "      <td>25.85</td>\n",
       "      <td>26.37</td>\n",
       "      <td>26.62</td>\n",
       "      <td>25.85</td>\n",
       "      <td>781346.0</td>\n",
       "      <td>600030</td>\n",
       "      <td>26.1385</td>\n",
       "      <td>25.312000</td>\n",
       "      <td>0.018757</td>\n",
       "      <td>0.018934</td>\n",
       "    </tr>\n",
       "    <tr>\n",
       "      <th>722</th>\n",
       "      <td>2021-12-31</td>\n",
       "      <td>26.46</td>\n",
       "      <td>26.41</td>\n",
       "      <td>26.69</td>\n",
       "      <td>26.39</td>\n",
       "      <td>670511.0</td>\n",
       "      <td>600030</td>\n",
       "      <td>26.2200</td>\n",
       "      <td>25.323000</td>\n",
       "      <td>0.001516</td>\n",
       "      <td>0.001517</td>\n",
       "    </tr>\n",
       "  </tbody>\n",
       "</table>\n",
       "</div>"
      ],
      "text/plain": [
       "           date   open  close   high    low    volume    code   SMA_20  \\\n",
       "718  2021-12-27  25.81  26.00  26.05  25.64  451896.0  600030  25.8435   \n",
       "719  2021-12-28  26.10  26.05  26.28  25.84  549142.0  600030  25.9575   \n",
       "720  2021-12-29  26.13  25.88  26.13  25.83  485993.0  600030  26.0400   \n",
       "721  2021-12-30  25.85  26.37  26.62  25.85  781346.0  600030  26.1385   \n",
       "722  2021-12-31  26.46  26.41  26.69  26.39  670511.0  600030  26.2200   \n",
       "\n",
       "        SMA_60   returns  returns_dis  \n",
       "718  25.286167  0.011995     0.012067  \n",
       "719  25.289333  0.001921     0.001923  \n",
       "720  25.293833 -0.006547    -0.006526  \n",
       "721  25.312000  0.018757     0.018934  \n",
       "722  25.323000  0.001516     0.001517  "
      ]
     },
     "execution_count": 13,
     "metadata": {},
     "output_type": "execute_result"
    }
   ],
   "source": [
    "data.tail()"
   ]
  },
  {
   "cell_type": "code",
   "execution_count": 14,
   "id": "1d9fb280",
   "metadata": {
    "scrolled": true
   },
   "outputs": [
    {
     "data": {
      "text/plain": [
       "<AxesSubplot:>"
      ]
     },
     "execution_count": 14,
     "metadata": {},
     "output_type": "execute_result"
    },
    {
     "data": {
      "image/png": "[encoded data removed]",
      "text/plain": [
       "<Figure size 720x432 with 1 Axes>"
      ]
     },
     "metadata": {
      "needs_background": "light"
     },
     "output_type": "display_data"
    }
   ],
   "source": [
    "#计算累计收益\n",
    "data['returns'].cumsum().apply(np.exp).plot(figsize=(10, 6))"
   ]
  },
  {
   "cell_type": "markdown",
   "id": "921a1246",
   "metadata": {},
   "source": [
    "<h1>SMA策略</h1>"
   ]
  },
  {
   "cell_type": "markdown",
   "id": "72cf6fb2",
   "metadata": {},
   "source": [
    "<h2>准备gomg"
   ]
  },
  {
   "cell_type": "code",
   "execution_count": null,
   "id": "5470595e",
   "metadata": {},
   "outputs": [],
   "source": []
  }
 ],
 "metadata": {
  "kernelspec": {
   "display_name": "Python 3",
   "language": "python",
   "name": "python3"
  },
  "language_info": {
   "codemirror_mode": {
    "name": "ipython",
    "version": 3
   },
   "file_extension": ".py",
   "mimetype": "text/x-python",
   "name": "python",
   "nbconvert_exporter": "python",
   "pygments_lexer": "ipython3",
   "version": "3.8.8"
  }
 },
 "nbformat": 4,
 "nbformat_minor": 5
}
