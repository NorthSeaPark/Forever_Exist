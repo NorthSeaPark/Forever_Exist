{
 "cells": [
  {
   "cell_type": "code",
   "execution_count": 2,
   "id": "962c35b0",
   "metadata": {},
   "outputs": [],
   "source": [
    "%matplotlib inline\n",
    "import matplotlib.pyplot as plt\n",
    "import seaborn\n",
    "# plt.style.use('seaborn')             ggplot;\n",
    "import matplotlib as mpl\n",
    "mpl.rcParams['font.family'] = 'serif'               #解决一些字体显示乱码问题\n",
    "import warnings; warnings.simplefilter('ignore')       #忽略警告信息；"
   ]
  },
  {
   "cell_type": "code",
   "execution_count": 3,
   "id": "1107ad31",
   "metadata": {},
   "outputs": [],
   "source": [
    "import numpy as np\n",
    "import pandas as pd\n",
    "import tushare as ts"
   ]
  },
  {
   "cell_type": "code",
   "execution_count": 4,
   "id": "3c199919",
   "metadata": {},
   "outputs": [
    {
     "name": "stdout",
     "output_type": "stream",
     "text": [
      "本接口即将停止更新，请尽快使用Pro版接口：https://waditu.com/document/2\n"
     ]
    }
   ],
   "source": [
    "data = ts.get_k_data('600030', start = '2019-01-01', end = '2021-12-31')"
   ]
  },
  {
   "cell_type": "code",
   "execution_count": 5,
   "id": "408f5a76",
   "metadata": {},
   "outputs": [
    {
     "data": {
      "text/html": [
       "<div>\n",
       "<style scoped>\n",
       "    .dataframe tbody tr th:only-of-type {\n",
       "        vertical-align: middle;\n",
       "    }\n",
       "\n",
       "    .dataframe tbody tr th {\n",
       "        vertical-align: top;\n",
       "    }\n",
       "\n",
       "    .dataframe thead th {\n",
       "        text-align: right;\n",
       "    }\n",
       "</style>\n",
       "<table border=\"1\" class=\"dataframe\">\n",
       "  <thead>\n",
       "    <tr style=\"text-align: right;\">\n",
       "      <th></th>\n",
       "      <th>date</th>\n",
       "      <th>open</th>\n",
       "      <th>close</th>\n",
       "      <th>high</th>\n",
       "      <th>low</th>\n",
       "      <th>volume</th>\n",
       "      <th>code</th>\n",
       "    </tr>\n",
       "  </thead>\n",
       "  <tbody>\n",
       "    <tr>\n",
       "      <th>0</th>\n",
       "      <td>2019-01-10</td>\n",
       "      <td>17.15</td>\n",
       "      <td>16.80</td>\n",
       "      <td>17.15</td>\n",
       "      <td>16.75</td>\n",
       "      <td>2186844.0</td>\n",
       "      <td>600030</td>\n",
       "    </tr>\n",
       "    <tr>\n",
       "      <th>1</th>\n",
       "      <td>2019-01-11</td>\n",
       "      <td>16.80</td>\n",
       "      <td>16.97</td>\n",
       "      <td>17.03</td>\n",
       "      <td>16.74</td>\n",
       "      <td>1127695.0</td>\n",
       "      <td>600030</td>\n",
       "    </tr>\n",
       "    <tr>\n",
       "      <th>2</th>\n",
       "      <td>2019-01-14</td>\n",
       "      <td>17.11</td>\n",
       "      <td>17.00</td>\n",
       "      <td>17.26</td>\n",
       "      <td>16.97</td>\n",
       "      <td>861108.0</td>\n",
       "      <td>600030</td>\n",
       "    </tr>\n",
       "    <tr>\n",
       "      <th>3</th>\n",
       "      <td>2019-01-15</td>\n",
       "      <td>17.04</td>\n",
       "      <td>17.60</td>\n",
       "      <td>17.72</td>\n",
       "      <td>17.01</td>\n",
       "      <td>1805469.0</td>\n",
       "      <td>600030</td>\n",
       "    </tr>\n",
       "    <tr>\n",
       "      <th>4</th>\n",
       "      <td>2019-01-16</td>\n",
       "      <td>17.63</td>\n",
       "      <td>17.64</td>\n",
       "      <td>17.75</td>\n",
       "      <td>17.48</td>\n",
       "      <td>1104443.0</td>\n",
       "      <td>600030</td>\n",
       "    </tr>\n",
       "  </tbody>\n",
       "</table>\n",
       "</div>"
      ],
      "text/plain": [
       "         date   open  close   high    low     volume    code\n",
       "0  2019-01-10  17.15  16.80  17.15  16.75  2186844.0  600030\n",
       "1  2019-01-11  16.80  16.97  17.03  16.74  1127695.0  600030\n",
       "2  2019-01-14  17.11  17.00  17.26  16.97   861108.0  600030\n",
       "3  2019-01-15  17.04  17.60  17.72  17.01  1805469.0  600030\n",
       "4  2019-01-16  17.63  17.64  17.75  17.48  1104443.0  600030"
      ]
     },
     "execution_count": 5,
     "metadata": {},
     "output_type": "execute_result"
    }
   ],
   "source": [
    "data.head()"
   ]
  },
  {
   "cell_type": "code",
   "execution_count": 6,
   "id": "eb30d2be",
   "metadata": {},
   "outputs": [
    {
     "data": {
      "text/html": [
       "<div>\n",
       "<style scoped>\n",
       "    .dataframe tbody tr th:only-of-type {\n",
       "        vertical-align: middle;\n",
       "    }\n",
       "\n",
       "    .dataframe tbody tr th {\n",
       "        vertical-align: top;\n",
       "    }\n",
       "\n",
       "    .dataframe thead th {\n",
       "        text-align: right;\n",
       "    }\n",
       "</style>\n",
       "<table border=\"1\" class=\"dataframe\">\n",
       "  <thead>\n",
       "    <tr style=\"text-align: right;\">\n",
       "      <th></th>\n",
       "      <th>date</th>\n",
       "      <th>open</th>\n",
       "      <th>close</th>\n",
       "      <th>high</th>\n",
       "      <th>low</th>\n",
       "      <th>volume</th>\n",
       "      <th>code</th>\n",
       "    </tr>\n",
       "  </thead>\n",
       "  <tbody>\n",
       "    <tr>\n",
       "      <th>718</th>\n",
       "      <td>2021-12-27</td>\n",
       "      <td>25.81</td>\n",
       "      <td>26.00</td>\n",
       "      <td>26.05</td>\n",
       "      <td>25.64</td>\n",
       "      <td>451896.0</td>\n",
       "      <td>600030</td>\n",
       "    </tr>\n",
       "    <tr>\n",
       "      <th>719</th>\n",
       "      <td>2021-12-28</td>\n",
       "      <td>26.10</td>\n",
       "      <td>26.05</td>\n",
       "      <td>26.28</td>\n",
       "      <td>25.84</td>\n",
       "      <td>549142.0</td>\n",
       "      <td>600030</td>\n",
       "    </tr>\n",
       "    <tr>\n",
       "      <th>720</th>\n",
       "      <td>2021-12-29</td>\n",
       "      <td>26.13</td>\n",
       "      <td>25.88</td>\n",
       "      <td>26.13</td>\n",
       "      <td>25.83</td>\n",
       "      <td>485993.0</td>\n",
       "      <td>600030</td>\n",
       "    </tr>\n",
       "    <tr>\n",
       "      <th>721</th>\n",
       "      <td>2021-12-30</td>\n",
       "      <td>25.85</td>\n",
       "      <td>26.37</td>\n",
       "      <td>26.62</td>\n",
       "      <td>25.85</td>\n",
       "      <td>781346.0</td>\n",
       "      <td>600030</td>\n",
       "    </tr>\n",
       "    <tr>\n",
       "      <th>722</th>\n",
       "      <td>2021-12-31</td>\n",
       "      <td>26.46</td>\n",
       "      <td>26.41</td>\n",
       "      <td>26.69</td>\n",
       "      <td>26.39</td>\n",
       "      <td>670511.0</td>\n",
       "      <td>600030</td>\n",
       "    </tr>\n",
       "  </tbody>\n",
       "</table>\n",
       "</div>"
      ],
      "text/plain": [
       "           date   open  close   high    low    volume    code\n",
       "718  2021-12-27  25.81  26.00  26.05  25.64  451896.0  600030\n",
       "719  2021-12-28  26.10  26.05  26.28  25.84  549142.0  600030\n",
       "720  2021-12-29  26.13  25.88  26.13  25.83  485993.0  600030\n",
       "721  2021-12-30  25.85  26.37  26.62  25.85  781346.0  600030\n",
       "722  2021-12-31  26.46  26.41  26.69  26.39  670511.0  600030"
      ]
     },
     "execution_count": 6,
     "metadata": {},
     "output_type": "execute_result"
    }
   ],
   "source": [
    "data.tail()"
   ]
  },
  {
   "cell_type": "code",
   "execution_count": 7,
   "id": "95dc3168",
   "metadata": {},
   "outputs": [],
   "source": [
    "data['SMA_20'] = data['close'].rolling(20).mean()"
   ]
  },
  {
   "cell_type": "code",
   "execution_count": 8,
   "id": "9cef7b55",
   "metadata": {},
   "outputs": [],
   "source": [
    "data['SMA_60'] = data['close'].rolling(60).mean()"
   ]
  },
  {
   "cell_type": "code",
   "execution_count": 9,
   "id": "23649121",
   "metadata": {},
   "outputs": [
    {
     "data": {
      "text/html": [
       "<div>\n",
       "<style scoped>\n",
       "    .dataframe tbody tr th:only-of-type {\n",
       "        vertical-align: middle;\n",
       "    }\n",
       "\n",
       "    .dataframe tbody tr th {\n",
       "        vertical-align: top;\n",
       "    }\n",
       "\n",
       "    .dataframe thead th {\n",
       "        text-align: right;\n",
       "    }\n",
       "</style>\n",
       "<table border=\"1\" class=\"dataframe\">\n",
       "  <thead>\n",
       "    <tr style=\"text-align: right;\">\n",
       "      <th></th>\n",
       "      <th>date</th>\n",
       "      <th>open</th>\n",
       "      <th>close</th>\n",
       "      <th>high</th>\n",
       "      <th>low</th>\n",
       "      <th>volume</th>\n",
       "      <th>code</th>\n",
       "      <th>SMA_20</th>\n",
       "      <th>SMA_60</th>\n",
       "    </tr>\n",
       "  </thead>\n",
       "  <tbody>\n",
       "    <tr>\n",
       "      <th>718</th>\n",
       "      <td>2021-12-27</td>\n",
       "      <td>25.81</td>\n",
       "      <td>26.00</td>\n",
       "      <td>26.05</td>\n",
       "      <td>25.64</td>\n",
       "      <td>451896.0</td>\n",
       "      <td>600030</td>\n",
       "      <td>25.8435</td>\n",
       "      <td>25.286167</td>\n",
       "    </tr>\n",
       "    <tr>\n",
       "      <th>719</th>\n",
       "      <td>2021-12-28</td>\n",
       "      <td>26.10</td>\n",
       "      <td>26.05</td>\n",
       "      <td>26.28</td>\n",
       "      <td>25.84</td>\n",
       "      <td>549142.0</td>\n",
       "      <td>600030</td>\n",
       "      <td>25.9575</td>\n",
       "      <td>25.289333</td>\n",
       "    </tr>\n",
       "    <tr>\n",
       "      <th>720</th>\n",
       "      <td>2021-12-29</td>\n",
       "      <td>26.13</td>\n",
       "      <td>25.88</td>\n",
       "      <td>26.13</td>\n",
       "      <td>25.83</td>\n",
       "      <td>485993.0</td>\n",
       "      <td>600030</td>\n",
       "      <td>26.0400</td>\n",
       "      <td>25.293833</td>\n",
       "    </tr>\n",
       "    <tr>\n",
       "      <th>721</th>\n",
       "      <td>2021-12-30</td>\n",
       "      <td>25.85</td>\n",
       "      <td>26.37</td>\n",
       "      <td>26.62</td>\n",
       "      <td>25.85</td>\n",
       "      <td>781346.0</td>\n",
       "      <td>600030</td>\n",
       "      <td>26.1385</td>\n",
       "      <td>25.312000</td>\n",
       "    </tr>\n",
       "    <tr>\n",
       "      <th>722</th>\n",
       "      <td>2021-12-31</td>\n",
       "      <td>26.46</td>\n",
       "      <td>26.41</td>\n",
       "      <td>26.69</td>\n",
       "      <td>26.39</td>\n",
       "      <td>670511.0</td>\n",
       "      <td>600030</td>\n",
       "      <td>26.2200</td>\n",
       "      <td>25.323000</td>\n",
       "    </tr>\n",
       "  </tbody>\n",
       "</table>\n",
       "</div>"
      ],
      "text/plain": [
       "           date   open  close   high    low    volume    code   SMA_20  \\\n",
       "718  2021-12-27  25.81  26.00  26.05  25.64  451896.0  600030  25.8435   \n",
       "719  2021-12-28  26.10  26.05  26.28  25.84  549142.0  600030  25.9575   \n",
       "720  2021-12-29  26.13  25.88  26.13  25.83  485993.0  600030  26.0400   \n",
       "721  2021-12-30  25.85  26.37  26.62  25.85  781346.0  600030  26.1385   \n",
       "722  2021-12-31  26.46  26.41  26.69  26.39  670511.0  600030  26.2200   \n",
       "\n",
       "        SMA_60  \n",
       "718  25.286167  \n",
       "719  25.289333  \n",
       "720  25.293833  \n",
       "721  25.312000  \n",
       "722  25.323000  "
      ]
     },
     "execution_count": 9,
     "metadata": {},
     "output_type": "execute_result"
    }
   ],
   "source": [
    "data.tail()"
   ]
  },
  {
   "cell_type": "code",
   "execution_count": 10,
   "id": "5063e36c",
   "metadata": {},
   "outputs": [
    {
     "data": {
      "text/plain": [
       "<AxesSubplot:>"
      ]
     },
     "execution_count": 10,
     "metadata": {},
     "output_type": "execute_result"
    },
    {
     "data": {
      "image/png": "[encoded data removed]",
      "text/plain": [
       "<Figure size 720x432 with 1 Axes>"
      ]
     },
     "metadata": {
      "needs_background": "light"
     },
     "output_type": "display_data"
    }
   ],
   "source": [
    "data[['close', 'SMA_20', 'SMA_60']].plot(figsize = (10,6))"
   ]
  },
  {
   "cell_type": "code",
   "execution_count": 11,
   "id": "45a5155e",
   "metadata": {},
   "outputs": [],
   "source": [
    "#计算股票的return\n",
    "data['returns'] = np.log(data['close']/data['close'].shift(1))"
   ]
  },
  {
   "cell_type": "code",
   "execution_count": 12,
   "id": "4f45effb",
   "metadata": {},
   "outputs": [],
   "source": [
    "data['returns_dis'] = data['close'].pct_change()"
   ]
  },
  {
   "cell_type": "code",
   "execution_count": 13,
   "id": "68998279",
   "metadata": {},
   "outputs": [
    {
     "data": {
      "text/html": [
       "<div>\n",
       "<style scoped>\n",
       "    .dataframe tbody tr th:only-of-type {\n",
       "        vertical-align: middle;\n",
       "    }\n",
       "\n",
       "    .dataframe tbody tr th {\n",
       "        vertical-align: top;\n",
       "    }\n",
       "\n",
       "    .dataframe thead th {\n",
       "        text-align: right;\n",
       "    }\n",
       "</style>\n",
       "<table border=\"1\" class=\"dataframe\">\n",
       "  <thead>\n",
       "    <tr style=\"text-align: right;\">\n",
       "      <th></th>\n",
       "      <th>date</th>\n",
       "      <th>open</th>\n",
       "      <th>close</th>\n",
       "      <th>high</th>\n",
       "      <th>low</th>\n",
       "      <th>volume</th>\n",
       "      <th>code</th>\n",
       "      <th>SMA_20</th>\n",
       "      <th>SMA_60</th>\n",
       "      <th>returns</th>\n",
       "      <th>returns_dis</th>\n",
       "    </tr>\n",
       "  </thead>\n",
       "  <tbody>\n",
       "    <tr>\n",
       "      <th>0</th>\n",
       "      <td>2019-01-10</td>\n",
       "      <td>17.15</td>\n",
       "      <td>16.80</td>\n",
       "      <td>17.15</td>\n",
       "      <td>16.75</td>\n",
       "      <td>2186844.0</td>\n",
       "      <td>600030</td>\n",
       "      <td>NaN</td>\n",
       "      <td>NaN</td>\n",
       "      <td>NaN</td>\n",
       "      <td>NaN</td>\n",
       "    </tr>\n",
       "    <tr>\n",
       "      <th>1</th>\n",
       "      <td>2019-01-11</td>\n",
       "      <td>16.80</td>\n",
       "      <td>16.97</td>\n",
       "      <td>17.03</td>\n",
       "      <td>16.74</td>\n",
       "      <td>1127695.0</td>\n",
       "      <td>600030</td>\n",
       "      <td>NaN</td>\n",
       "      <td>NaN</td>\n",
       "      <td>0.010068</td>\n",
       "      <td>0.010119</td>\n",
       "    </tr>\n",
       "    <tr>\n",
       "      <th>2</th>\n",
       "      <td>2019-01-14</td>\n",
       "      <td>17.11</td>\n",
       "      <td>17.00</td>\n",
       "      <td>17.26</td>\n",
       "      <td>16.97</td>\n",
       "      <td>861108.0</td>\n",
       "      <td>600030</td>\n",
       "      <td>NaN</td>\n",
       "      <td>NaN</td>\n",
       "      <td>0.001766</td>\n",
       "      <td>0.001768</td>\n",
       "    </tr>\n",
       "    <tr>\n",
       "      <th>3</th>\n",
       "      <td>2019-01-15</td>\n",
       "      <td>17.04</td>\n",
       "      <td>17.60</td>\n",
       "      <td>17.72</td>\n",
       "      <td>17.01</td>\n",
       "      <td>1805469.0</td>\n",
       "      <td>600030</td>\n",
       "      <td>NaN</td>\n",
       "      <td>NaN</td>\n",
       "      <td>0.034686</td>\n",
       "      <td>0.035294</td>\n",
       "    </tr>\n",
       "    <tr>\n",
       "      <th>4</th>\n",
       "      <td>2019-01-16</td>\n",
       "      <td>17.63</td>\n",
       "      <td>17.64</td>\n",
       "      <td>17.75</td>\n",
       "      <td>17.48</td>\n",
       "      <td>1104443.0</td>\n",
       "      <td>600030</td>\n",
       "      <td>NaN</td>\n",
       "      <td>NaN</td>\n",
       "      <td>0.002270</td>\n",
       "      <td>0.002273</td>\n",
       "    </tr>\n",
       "  </tbody>\n",
       "</table>\n",
       "</div>"
      ],
      "text/plain": [
       "         date   open  close   high    low     volume    code  SMA_20  SMA_60  \\\n",
       "0  2019-01-10  17.15  16.80  17.15  16.75  2186844.0  600030     NaN     NaN   \n",
       "1  2019-01-11  16.80  16.97  17.03  16.74  1127695.0  600030     NaN     NaN   \n",
       "2  2019-01-14  17.11  17.00  17.26  16.97   861108.0  600030     NaN     NaN   \n",
       "3  2019-01-15  17.04  17.60  17.72  17.01  1805469.0  600030     NaN     NaN   \n",
       "4  2019-01-16  17.63  17.64  17.75  17.48  1104443.0  600030     NaN     NaN   \n",
       "\n",
       "    returns  returns_dis  \n",
       "0       NaN          NaN  \n",
       "1  0.010068     0.010119  \n",
       "2  0.001766     0.001768  \n",
       "3  0.034686     0.035294  \n",
       "4  0.002270     0.002273  "
      ]
     },
     "execution_count": 13,
     "metadata": {},
     "output_type": "execute_result"
    }
   ],
   "source": [
    "data.head()"
   ]
  },
  {
   "cell_type": "code",
   "execution_count": 14,
   "id": "d8036c39",
   "metadata": {},
   "outputs": [
    {
     "data": {
      "text/html": [
       "<div>\n",
       "<style scoped>\n",
       "    .dataframe tbody tr th:only-of-type {\n",
       "        vertical-align: middle;\n",
       "    }\n",
       "\n",
       "    .dataframe tbody tr th {\n",
       "        vertical-align: top;\n",
       "    }\n",
       "\n",
       "    .dataframe thead th {\n",
       "        text-align: right;\n",
       "    }\n",
       "</style>\n",
       "<table border=\"1\" class=\"dataframe\">\n",
       "  <thead>\n",
       "    <tr style=\"text-align: right;\">\n",
       "      <th></th>\n",
       "      <th>date</th>\n",
       "      <th>open</th>\n",
       "      <th>close</th>\n",
       "      <th>high</th>\n",
       "      <th>low</th>\n",
       "      <th>volume</th>\n",
       "      <th>code</th>\n",
       "      <th>SMA_20</th>\n",
       "      <th>SMA_60</th>\n",
       "      <th>returns</th>\n",
       "      <th>returns_dis</th>\n",
       "    </tr>\n",
       "  </thead>\n",
       "  <tbody>\n",
       "    <tr>\n",
       "      <th>718</th>\n",
       "      <td>2021-12-27</td>\n",
       "      <td>25.81</td>\n",
       "      <td>26.00</td>\n",
       "      <td>26.05</td>\n",
       "      <td>25.64</td>\n",
       "      <td>451896.0</td>\n",
       "      <td>600030</td>\n",
       "      <td>25.8435</td>\n",
       "      <td>25.286167</td>\n",
       "      <td>0.011995</td>\n",
       "      <td>0.012067</td>\n",
       "    </tr>\n",
       "    <tr>\n",
       "      <th>719</th>\n",
       "      <td>2021-12-28</td>\n",
       "      <td>26.10</td>\n",
       "      <td>26.05</td>\n",
       "      <td>26.28</td>\n",
       "      <td>25.84</td>\n",
       "      <td>549142.0</td>\n",
       "      <td>600030</td>\n",
       "      <td>25.9575</td>\n",
       "      <td>25.289333</td>\n",
       "      <td>0.001921</td>\n",
       "      <td>0.001923</td>\n",
       "    </tr>\n",
       "    <tr>\n",
       "      <th>720</th>\n",
       "      <td>2021-12-29</td>\n",
       "      <td>26.13</td>\n",
       "      <td>25.88</td>\n",
       "      <td>26.13</td>\n",
       "      <td>25.83</td>\n",
       "      <td>485993.0</td>\n",
       "      <td>600030</td>\n",
       "      <td>26.0400</td>\n",
       "      <td>25.293833</td>\n",
       "      <td>-0.006547</td>\n",
       "      <td>-0.006526</td>\n",
       "    </tr>\n",
       "    <tr>\n",
       "      <th>721</th>\n",
       "      <td>2021-12-30</td>\n",
       "      <td>25.85</td>\n",
       "      <td>26.37</td>\n",
       "      <td>26.62</td>\n",
       "      <td>25.85</td>\n",
       "      <td>781346.0</td>\n",
       "      <td>600030</td>\n",
       "      <td>26.1385</td>\n",
       "      <td>25.312000</td>\n",
       "      <td>0.018757</td>\n",
       "      <td>0.018934</td>\n",
       "    </tr>\n",
       "    <tr>\n",
       "      <th>722</th>\n",
       "      <td>2021-12-31</td>\n",
       "      <td>26.46</td>\n",
       "      <td>26.41</td>\n",
       "      <td>26.69</td>\n",
       "      <td>26.39</td>\n",
       "      <td>670511.0</td>\n",
       "      <td>600030</td>\n",
       "      <td>26.2200</td>\n",
       "      <td>25.323000</td>\n",
       "      <td>0.001516</td>\n",
       "      <td>0.001517</td>\n",
       "    </tr>\n",
       "  </tbody>\n",
       "</table>\n",
       "</div>"
      ],
      "text/plain": [
       "           date   open  close   high    low    volume    code   SMA_20  \\\n",
       "718  2021-12-27  25.81  26.00  26.05  25.64  451896.0  600030  25.8435   \n",
       "719  2021-12-28  26.10  26.05  26.28  25.84  549142.0  600030  25.9575   \n",
       "720  2021-12-29  26.13  25.88  26.13  25.83  485993.0  600030  26.0400   \n",
       "721  2021-12-30  25.85  26.37  26.62  25.85  781346.0  600030  26.1385   \n",
       "722  2021-12-31  26.46  26.41  26.69  26.39  670511.0  600030  26.2200   \n",
       "\n",
       "        SMA_60   returns  returns_dis  \n",
       "718  25.286167  0.011995     0.012067  \n",
       "719  25.289333  0.001921     0.001923  \n",
       "720  25.293833 -0.006547    -0.006526  \n",
       "721  25.312000  0.018757     0.018934  \n",
       "722  25.323000  0.001516     0.001517  "
      ]
     },
     "execution_count": 14,
     "metadata": {},
     "output_type": "execute_result"
    }
   ],
   "source": [
    "data.tail()"
   ]
  },
  {
   "cell_type": "code",
   "execution_count": 15,
   "id": "1c5e7166",
   "metadata": {
    "scrolled": true
   },
   "outputs": [
    {
     "data": {
      "text/plain": [
       "<AxesSubplot:>"
      ]
     },
     "execution_count": 15,
     "metadata": {},
     "output_type": "execute_result"
    },
    {
     "data": {
      "image/png": "[encoded data removed]",
      "text/plain": [
       "<Figure size 720x432 with 1 Axes>"
      ]
     },
     "metadata": {
      "needs_background": "light"
     },
     "output_type": "display_data"
    }
   ],
   "source": [
    "#计算累计收益\n",
    "data['returns'].cumsum().apply(np.exp).plot(figsize=(10, 6))"
   ]
  },
  {
   "cell_type": "markdown",
   "id": "6a122dbc",
   "metadata": {},
   "source": [
    "<h1>SMA策略</h1>"
   ]
  },
  {
   "cell_type": "markdown",
   "id": "bc475b8c",
   "metadata": {},
   "source": [
    "<h2>准备工作 "
   ]
  },
  {
   "cell_type": "code",
   "execution_count": 16,
   "id": "f4e9da60",
   "metadata": {},
   "outputs": [
    {
     "name": "stdout",
     "output_type": "stream",
     "text": [
      "本接口即将停止更新，请尽快使用Pro版接口：https://waditu.com/document/2\n"
     ]
    }
   ],
   "source": [
    "data = ts.get_k_data('hs300', start = '2021-01-01', end='2021-12-31')"
   ]
  },
  {
   "cell_type": "code",
   "execution_count": 17,
   "id": "028f8bb8",
   "metadata": {},
   "outputs": [],
   "source": [
    "data = pd.DataFrame(data)   "
   ]
  },
  {
   "cell_type": "code",
   "execution_count": 18,
   "id": "ed12cb71",
   "metadata": {},
   "outputs": [
    {
     "data": {
      "text/html": [
       "<div>\n",
       "<style scoped>\n",
       "    .dataframe tbody tr th:only-of-type {\n",
       "        vertical-align: middle;\n",
       "    }\n",
       "\n",
       "    .dataframe tbody tr th {\n",
       "        vertical-align: top;\n",
       "    }\n",
       "\n",
       "    .dataframe thead th {\n",
       "        text-align: right;\n",
       "    }\n",
       "</style>\n",
       "<table border=\"1\" class=\"dataframe\">\n",
       "  <thead>\n",
       "    <tr style=\"text-align: right;\">\n",
       "      <th></th>\n",
       "      <th>date</th>\n",
       "      <th>open</th>\n",
       "      <th>close</th>\n",
       "      <th>high</th>\n",
       "      <th>low</th>\n",
       "      <th>volume</th>\n",
       "      <th>code</th>\n",
       "    </tr>\n",
       "  </thead>\n",
       "  <tbody>\n",
       "    <tr>\n",
       "      <th>0</th>\n",
       "      <td>2021-01-04</td>\n",
       "      <td>5212.93</td>\n",
       "      <td>5267.72</td>\n",
       "      <td>5284.43</td>\n",
       "      <td>5190.94</td>\n",
       "      <td>211711382.0</td>\n",
       "      <td>hs300</td>\n",
       "    </tr>\n",
       "    <tr>\n",
       "      <th>1</th>\n",
       "      <td>2021-01-05</td>\n",
       "      <td>5245.84</td>\n",
       "      <td>5368.50</td>\n",
       "      <td>5368.50</td>\n",
       "      <td>5234.38</td>\n",
       "      <td>224931159.0</td>\n",
       "      <td>hs300</td>\n",
       "    </tr>\n",
       "    <tr>\n",
       "      <th>2</th>\n",
       "      <td>2021-01-06</td>\n",
       "      <td>5386.51</td>\n",
       "      <td>5417.67</td>\n",
       "      <td>5433.47</td>\n",
       "      <td>5341.43</td>\n",
       "      <td>193773444.0</td>\n",
       "      <td>hs300</td>\n",
       "    </tr>\n",
       "    <tr>\n",
       "      <th>3</th>\n",
       "      <td>2021-01-07</td>\n",
       "      <td>5428.39</td>\n",
       "      <td>5513.66</td>\n",
       "      <td>5513.66</td>\n",
       "      <td>5413.35</td>\n",
       "      <td>219872080.0</td>\n",
       "      <td>hs300</td>\n",
       "    </tr>\n",
       "    <tr>\n",
       "      <th>4</th>\n",
       "      <td>2021-01-08</td>\n",
       "      <td>5526.29</td>\n",
       "      <td>5495.43</td>\n",
       "      <td>5547.47</td>\n",
       "      <td>5442.69</td>\n",
       "      <td>204324956.0</td>\n",
       "      <td>hs300</td>\n",
       "    </tr>\n",
       "  </tbody>\n",
       "</table>\n",
       "</div>"
      ],
      "text/plain": [
       "         date     open    close     high      low       volume   code\n",
       "0  2021-01-04  5212.93  5267.72  5284.43  5190.94  211711382.0  hs300\n",
       "1  2021-01-05  5245.84  5368.50  5368.50  5234.38  224931159.0  hs300\n",
       "2  2021-01-06  5386.51  5417.67  5433.47  5341.43  193773444.0  hs300\n",
       "3  2021-01-07  5428.39  5513.66  5513.66  5413.35  219872080.0  hs300\n",
       "4  2021-01-08  5526.29  5495.43  5547.47  5442.69  204324956.0  hs300"
      ]
     },
     "execution_count": 18,
     "metadata": {},
     "output_type": "execute_result"
    }
   ],
   "source": [
    "data.head()"
   ]
  },
  {
   "cell_type": "code",
   "execution_count": 19,
   "id": "06e2df0e",
   "metadata": {},
   "outputs": [],
   "source": [
    "data.set_index('date', inplace = True)"
   ]
  },
  {
   "cell_type": "code",
   "execution_count": 20,
   "id": "edb119c7",
   "metadata": {},
   "outputs": [],
   "source": [
    "data.rename(columns={'close': 'price'}, inplace=True)"
   ]
  },
  {
   "cell_type": "code",
   "execution_count": 21,
   "id": "6f765baa",
   "metadata": {},
   "outputs": [
    {
     "data": {
      "text/html": [
       "<div>\n",
       "<style scoped>\n",
       "    .dataframe tbody tr th:only-of-type {\n",
       "        vertical-align: middle;\n",
       "    }\n",
       "\n",
       "    .dataframe tbody tr th {\n",
       "        vertical-align: top;\n",
       "    }\n",
       "\n",
       "    .dataframe thead th {\n",
       "        text-align: right;\n",
       "    }\n",
       "</style>\n",
       "<table border=\"1\" class=\"dataframe\">\n",
       "  <thead>\n",
       "    <tr style=\"text-align: right;\">\n",
       "      <th></th>\n",
       "      <th>open</th>\n",
       "      <th>price</th>\n",
       "      <th>high</th>\n",
       "      <th>low</th>\n",
       "      <th>volume</th>\n",
       "      <th>code</th>\n",
       "    </tr>\n",
       "    <tr>\n",
       "      <th>date</th>\n",
       "      <th></th>\n",
       "      <th></th>\n",
       "      <th></th>\n",
       "      <th></th>\n",
       "      <th></th>\n",
       "      <th></th>\n",
       "    </tr>\n",
       "  </thead>\n",
       "  <tbody>\n",
       "    <tr>\n",
       "      <th>2021-01-04</th>\n",
       "      <td>5212.93</td>\n",
       "      <td>5267.72</td>\n",
       "      <td>5284.43</td>\n",
       "      <td>5190.94</td>\n",
       "      <td>211711382.0</td>\n",
       "      <td>hs300</td>\n",
       "    </tr>\n",
       "    <tr>\n",
       "      <th>2021-01-05</th>\n",
       "      <td>5245.84</td>\n",
       "      <td>5368.50</td>\n",
       "      <td>5368.50</td>\n",
       "      <td>5234.38</td>\n",
       "      <td>224931159.0</td>\n",
       "      <td>hs300</td>\n",
       "    </tr>\n",
       "    <tr>\n",
       "      <th>2021-01-06</th>\n",
       "      <td>5386.51</td>\n",
       "      <td>5417.67</td>\n",
       "      <td>5433.47</td>\n",
       "      <td>5341.43</td>\n",
       "      <td>193773444.0</td>\n",
       "      <td>hs300</td>\n",
       "    </tr>\n",
       "    <tr>\n",
       "      <th>2021-01-07</th>\n",
       "      <td>5428.39</td>\n",
       "      <td>5513.66</td>\n",
       "      <td>5513.66</td>\n",
       "      <td>5413.35</td>\n",
       "      <td>219872080.0</td>\n",
       "      <td>hs300</td>\n",
       "    </tr>\n",
       "    <tr>\n",
       "      <th>2021-01-08</th>\n",
       "      <td>5526.29</td>\n",
       "      <td>5495.43</td>\n",
       "      <td>5547.47</td>\n",
       "      <td>5442.69</td>\n",
       "      <td>204324956.0</td>\n",
       "      <td>hs300</td>\n",
       "    </tr>\n",
       "  </tbody>\n",
       "</table>\n",
       "</div>"
      ],
      "text/plain": [
       "               open    price     high      low       volume   code\n",
       "date                                                              \n",
       "2021-01-04  5212.93  5267.72  5284.43  5190.94  211711382.0  hs300\n",
       "2021-01-05  5245.84  5368.50  5368.50  5234.38  224931159.0  hs300\n",
       "2021-01-06  5386.51  5417.67  5433.47  5341.43  193773444.0  hs300\n",
       "2021-01-07  5428.39  5513.66  5513.66  5413.35  219872080.0  hs300\n",
       "2021-01-08  5526.29  5495.43  5547.47  5442.69  204324956.0  hs300"
      ]
     },
     "execution_count": 21,
     "metadata": {},
     "output_type": "execute_result"
    }
   ],
   "source": [
    "data.head()"
   ]
  },
  {
   "cell_type": "code",
   "execution_count": 22,
   "id": "83be4e0a",
   "metadata": {},
   "outputs": [],
   "source": [
    "data['SMA_10'] = data['price'].rolling(10).mean() #短线 10日的"
   ]
  },
  {
   "cell_type": "code",
   "execution_count": 23,
   "id": "2cf54136",
   "metadata": {},
   "outputs": [],
   "source": [
    "data['SMA_60'] = data['price'].rolling(60).mean() #长线 60日的"
   ]
  },
  {
   "cell_type": "code",
   "execution_count": 24,
   "id": "de94f680",
   "metadata": {},
   "outputs": [
    {
     "data": {
      "text/html": [
       "<div>\n",
       "<style scoped>\n",
       "    .dataframe tbody tr th:only-of-type {\n",
       "        vertical-align: middle;\n",
       "    }\n",
       "\n",
       "    .dataframe tbody tr th {\n",
       "        vertical-align: top;\n",
       "    }\n",
       "\n",
       "    .dataframe thead th {\n",
       "        text-align: right;\n",
       "    }\n",
       "</style>\n",
       "<table border=\"1\" class=\"dataframe\">\n",
       "  <thead>\n",
       "    <tr style=\"text-align: right;\">\n",
       "      <th></th>\n",
       "      <th>open</th>\n",
       "      <th>price</th>\n",
       "      <th>high</th>\n",
       "      <th>low</th>\n",
       "      <th>volume</th>\n",
       "      <th>code</th>\n",
       "      <th>SMA_10</th>\n",
       "      <th>SMA_60</th>\n",
       "    </tr>\n",
       "    <tr>\n",
       "      <th>date</th>\n",
       "      <th></th>\n",
       "      <th></th>\n",
       "      <th></th>\n",
       "      <th></th>\n",
       "      <th></th>\n",
       "      <th></th>\n",
       "      <th></th>\n",
       "      <th></th>\n",
       "    </tr>\n",
       "  </thead>\n",
       "  <tbody>\n",
       "    <tr>\n",
       "      <th>2021-12-27</th>\n",
       "      <td>4918.15</td>\n",
       "      <td>4919.32</td>\n",
       "      <td>4939.69</td>\n",
       "      <td>4894.16</td>\n",
       "      <td>124100952.0</td>\n",
       "      <td>hs300</td>\n",
       "      <td>4954.285</td>\n",
       "      <td>4910.477167</td>\n",
       "    </tr>\n",
       "    <tr>\n",
       "      <th>2021-12-28</th>\n",
       "      <td>4923.69</td>\n",
       "      <td>4955.96</td>\n",
       "      <td>4959.14</td>\n",
       "      <td>4913.60</td>\n",
       "      <td>130457757.0</td>\n",
       "      <td>hs300</td>\n",
       "      <td>4944.911</td>\n",
       "      <td>4911.679333</td>\n",
       "    </tr>\n",
       "    <tr>\n",
       "      <th>2021-12-29</th>\n",
       "      <td>4958.65</td>\n",
       "      <td>4883.48</td>\n",
       "      <td>4958.65</td>\n",
       "      <td>4883.48</td>\n",
       "      <td>113587002.0</td>\n",
       "      <td>hs300</td>\n",
       "      <td>4932.669</td>\n",
       "      <td>4912.505167</td>\n",
       "    </tr>\n",
       "    <tr>\n",
       "      <th>2021-12-30</th>\n",
       "      <td>4882.16</td>\n",
       "      <td>4921.51</td>\n",
       "      <td>4940.18</td>\n",
       "      <td>4878.65</td>\n",
       "      <td>121617178.0</td>\n",
       "      <td>hs300</td>\n",
       "      <td>4921.347</td>\n",
       "      <td>4913.424000</td>\n",
       "    </tr>\n",
       "    <tr>\n",
       "      <th>2021-12-31</th>\n",
       "      <td>4937.46</td>\n",
       "      <td>4940.37</td>\n",
       "      <td>4950.36</td>\n",
       "      <td>4923.14</td>\n",
       "      <td>121313737.0</td>\n",
       "      <td>hs300</td>\n",
       "      <td>4919.908</td>\n",
       "      <td>4913.597833</td>\n",
       "    </tr>\n",
       "  </tbody>\n",
       "</table>\n",
       "</div>"
      ],
      "text/plain": [
       "               open    price     high      low       volume   code    SMA_10  \\\n",
       "date                                                                           \n",
       "2021-12-27  4918.15  4919.32  4939.69  4894.16  124100952.0  hs300  4954.285   \n",
       "2021-12-28  4923.69  4955.96  4959.14  4913.60  130457757.0  hs300  4944.911   \n",
       "2021-12-29  4958.65  4883.48  4958.65  4883.48  113587002.0  hs300  4932.669   \n",
       "2021-12-30  4882.16  4921.51  4940.18  4878.65  121617178.0  hs300  4921.347   \n",
       "2021-12-31  4937.46  4940.37  4950.36  4923.14  121313737.0  hs300  4919.908   \n",
       "\n",
       "                 SMA_60  \n",
       "date                     \n",
       "2021-12-27  4910.477167  \n",
       "2021-12-28  4911.679333  \n",
       "2021-12-29  4912.505167  \n",
       "2021-12-30  4913.424000  \n",
       "2021-12-31  4913.597833  "
      ]
     },
     "execution_count": 24,
     "metadata": {},
     "output_type": "execute_result"
    }
   ],
   "source": [
    "data.tail()"
   ]
  },
  {
   "cell_type": "code",
   "execution_count": 25,
   "id": "192926bb",
   "metadata": {},
   "outputs": [
    {
     "data": {
      "text/plain": [
       "<AxesSubplot:title={'center':'HS300 stock price | 10 & 60 days SMAs'}, xlabel='date'>"
      ]
     },
     "execution_count": 25,
     "metadata": {},
     "output_type": "execute_result"
    },
    {
     "data": {
      "image/png": "[encoded data removed]",
      "text/plain": [
       "<Figure size 720x432 with 1 Axes>"
      ]
     },
     "metadata": {
      "needs_background": "light"
     },
     "output_type": "display_data"
    }
   ],
   "source": [
    "data[['price','SMA_10','SMA_60']].plot(title='HS300 stock price | 10 & 60 days SMAs',\n",
    "                                       figsize=(10, 6))"
   ]
  },
  {
   "cell_type": "markdown",
   "id": "59352a63",
   "metadata": {},
   "source": [
    "<h2>2.策略开发思路"
   ]
  },
  {
   "cell_type": "code",
   "execution_count": 57,
   "id": "683dd319",
   "metadata": {},
   "outputs": [],
   "source": [
    "#至关重要的一步\n",
    "data['position'] = np.where(data['SMA_10'] > data['SMA_60'],1,0)\n",
    "#如果短线上穿长线即短线大于长线，做多，其余时间，平仓"
   ]
  },
  {
   "cell_type": "code",
   "execution_count": 58,
   "id": "2dc9f3b9",
   "metadata": {},
   "outputs": [],
   "source": [
    "data.dropna(inplace = True)"
   ]
  },
  {
   "cell_type": "code",
   "execution_count": 59,
   "id": "81317c97",
   "metadata": {},
   "outputs": [
    {
     "data": {
      "text/plain": [
       "<AxesSubplot:title={'center':'Market Postioning'}, xlabel='date'>"
      ]
     },
     "execution_count": 59,
     "metadata": {},
     "output_type": "execute_result"
    },
    {
     "data": {
      "image/png": "[encoded data removed]",
      "text/plain": [
       "<Figure size 720x432 with 1 Axes>"
      ]
     },
     "metadata": {
      "needs_background": "light"
     },
     "output_type": "display_data"
    }
   ],
   "source": [
    "data['position'].plot(ylim=[-1.1, 1.1], title = 'Market Postioning',figsize=(10, 6))"
   ]
  },
  {
   "cell_type": "markdown",
   "id": "0b2cdc44",
   "metadata": {},
   "source": [
    "<h2>3.计算策略年化收益并可视化"
   ]
  },
  {
   "cell_type": "code",
   "execution_count": 60,
   "id": "bff5fc10",
   "metadata": {},
   "outputs": [],
   "source": [
    "data['returns'] = np.log(data['price'] / data['price'].shift(1))   #很重要"
   ]
  },
  {
   "cell_type": "code",
   "execution_count": 61,
   "id": "d334f164",
   "metadata": {},
   "outputs": [
    {
     "data": {
      "text/html": [
       "<div>\n",
       "<style scoped>\n",
       "    .dataframe tbody tr th:only-of-type {\n",
       "        vertical-align: middle;\n",
       "    }\n",
       "\n",
       "    .dataframe tbody tr th {\n",
       "        vertical-align: top;\n",
       "    }\n",
       "\n",
       "    .dataframe thead th {\n",
       "        text-align: right;\n",
       "    }\n",
       "</style>\n",
       "<table border=\"1\" class=\"dataframe\">\n",
       "  <thead>\n",
       "    <tr style=\"text-align: right;\">\n",
       "      <th></th>\n",
       "      <th>open</th>\n",
       "      <th>price</th>\n",
       "      <th>high</th>\n",
       "      <th>low</th>\n",
       "      <th>volume</th>\n",
       "      <th>code</th>\n",
       "      <th>SMA_10</th>\n",
       "      <th>SMA_60</th>\n",
       "      <th>position</th>\n",
       "      <th>returns</th>\n",
       "      <th>strategy</th>\n",
       "    </tr>\n",
       "    <tr>\n",
       "      <th>date</th>\n",
       "      <th></th>\n",
       "      <th></th>\n",
       "      <th></th>\n",
       "      <th></th>\n",
       "      <th></th>\n",
       "      <th></th>\n",
       "      <th></th>\n",
       "      <th></th>\n",
       "      <th></th>\n",
       "      <th></th>\n",
       "      <th></th>\n",
       "    </tr>\n",
       "  </thead>\n",
       "  <tbody>\n",
       "    <tr>\n",
       "      <th>2021-12-27</th>\n",
       "      <td>4918.15</td>\n",
       "      <td>4919.32</td>\n",
       "      <td>4939.69</td>\n",
       "      <td>4894.16</td>\n",
       "      <td>124100952.0</td>\n",
       "      <td>hs300</td>\n",
       "      <td>4954.285</td>\n",
       "      <td>4910.477167</td>\n",
       "      <td>1</td>\n",
       "      <td>-0.000411</td>\n",
       "      <td>-0.000411</td>\n",
       "    </tr>\n",
       "    <tr>\n",
       "      <th>2021-12-28</th>\n",
       "      <td>4923.69</td>\n",
       "      <td>4955.96</td>\n",
       "      <td>4959.14</td>\n",
       "      <td>4913.60</td>\n",
       "      <td>130457757.0</td>\n",
       "      <td>hs300</td>\n",
       "      <td>4944.911</td>\n",
       "      <td>4911.679333</td>\n",
       "      <td>1</td>\n",
       "      <td>0.007421</td>\n",
       "      <td>0.007421</td>\n",
       "    </tr>\n",
       "    <tr>\n",
       "      <th>2021-12-29</th>\n",
       "      <td>4958.65</td>\n",
       "      <td>4883.48</td>\n",
       "      <td>4958.65</td>\n",
       "      <td>4883.48</td>\n",
       "      <td>113587002.0</td>\n",
       "      <td>hs300</td>\n",
       "      <td>4932.669</td>\n",
       "      <td>4912.505167</td>\n",
       "      <td>1</td>\n",
       "      <td>-0.014733</td>\n",
       "      <td>-0.014733</td>\n",
       "    </tr>\n",
       "    <tr>\n",
       "      <th>2021-12-30</th>\n",
       "      <td>4882.16</td>\n",
       "      <td>4921.51</td>\n",
       "      <td>4940.18</td>\n",
       "      <td>4878.65</td>\n",
       "      <td>121617178.0</td>\n",
       "      <td>hs300</td>\n",
       "      <td>4921.347</td>\n",
       "      <td>4913.424000</td>\n",
       "      <td>1</td>\n",
       "      <td>0.007757</td>\n",
       "      <td>0.007757</td>\n",
       "    </tr>\n",
       "    <tr>\n",
       "      <th>2021-12-31</th>\n",
       "      <td>4937.46</td>\n",
       "      <td>4940.37</td>\n",
       "      <td>4950.36</td>\n",
       "      <td>4923.14</td>\n",
       "      <td>121313737.0</td>\n",
       "      <td>hs300</td>\n",
       "      <td>4919.908</td>\n",
       "      <td>4913.597833</td>\n",
       "      <td>1</td>\n",
       "      <td>0.003825</td>\n",
       "      <td>0.003825</td>\n",
       "    </tr>\n",
       "  </tbody>\n",
       "</table>\n",
       "</div>"
      ],
      "text/plain": [
       "               open    price     high      low       volume   code    SMA_10  \\\n",
       "date                                                                           \n",
       "2021-12-27  4918.15  4919.32  4939.69  4894.16  124100952.0  hs300  4954.285   \n",
       "2021-12-28  4923.69  4955.96  4959.14  4913.60  130457757.0  hs300  4944.911   \n",
       "2021-12-29  4958.65  4883.48  4958.65  4883.48  113587002.0  hs300  4932.669   \n",
       "2021-12-30  4882.16  4921.51  4940.18  4878.65  121617178.0  hs300  4921.347   \n",
       "2021-12-31  4937.46  4940.37  4950.36  4923.14  121313737.0  hs300  4919.908   \n",
       "\n",
       "                 SMA_60  position   returns  strategy  \n",
       "date                                                   \n",
       "2021-12-27  4910.477167         1 -0.000411 -0.000411  \n",
       "2021-12-28  4911.679333         1  0.007421  0.007421  \n",
       "2021-12-29  4912.505167         1 -0.014733 -0.014733  \n",
       "2021-12-30  4913.424000         1  0.007757  0.007757  \n",
       "2021-12-31  4913.597833         1  0.003825  0.003825  "
      ]
     },
     "execution_count": 61,
     "metadata": {},
     "output_type": "execute_result"
    }
   ],
   "source": [
    "data.tail()"
   ]
  },
  {
   "cell_type": "code",
   "execution_count": 62,
   "id": "c50044d1",
   "metadata": {},
   "outputs": [
    {
     "data": {
      "text/plain": [
       "<AxesSubplot:>"
      ]
     },
     "execution_count": 62,
     "metadata": {},
     "output_type": "execute_result"
    },
    {
     "data": {
      "image/png": "[encoded data removed]",
      "text/plain": [
       "<Figure size 432x288 with 1 Axes>"
      ]
     },
     "metadata": {
      "needs_background": "light"
     },
     "output_type": "display_data"
    }
   ],
   "source": [
    "data['returns'].hist(bins=35)"
   ]
  },
  {
   "cell_type": "code",
   "execution_count": 63,
   "id": "1c238e80",
   "metadata": {},
   "outputs": [],
   "source": [
    "#计算策略带来的回报率\n",
    "#我们使用的是未来函数\n",
    "data['strategy'] = data['position'].shift(1)*data['returns']"
   ]
  },
  {
   "cell_type": "code",
   "execution_count": 64,
   "id": "bf766506",
   "metadata": {},
   "outputs": [
    {
     "data": {
      "text/plain": [
       "returns    -0.034192\n",
       "strategy   -0.064504\n",
       "dtype: float64"
      ]
     },
     "execution_count": 64,
     "metadata": {},
     "output_type": "execute_result"
    }
   ],
   "source": [
    "data[['returns','strategy']].sum()"
   ]
  },
  {
   "cell_type": "code",
   "execution_count": 65,
   "id": "73704f7a",
   "metadata": {},
   "outputs": [
    {
     "data": {
      "text/plain": [
       "<AxesSubplot:xlabel='date'>"
      ]
     },
     "execution_count": 65,
     "metadata": {},
     "output_type": "execute_result"
    },
    {
     "data": {
      "image/png": "[encoded data removed]",
      "text/plain": [
       "<Figure size 720x432 with 1 Axes>"
      ]
     },
     "metadata": {
      "needs_background": "light"
     },
     "output_type": "display_data"
    }
   ],
   "source": [
    "data[['returns', 'strategy']].cumsum().apply(np.exp).plot(figsize=(10, 6))   #可视化；离散的计算方法参考Momoentum策略"
   ]
  },
  {
   "cell_type": "markdown",
   "id": "4d736275",
   "metadata": {},
   "source": [
    "<h2>4.策略收益风险评估"
   ]
  },
  {
   "cell_type": "code",
   "execution_count": 66,
   "id": "6aae1a00",
   "metadata": {},
   "outputs": [
    {
     "data": {
      "text/plain": [
       "returns    -0.047868\n",
       "strategy   -0.090306\n",
       "dtype: float64"
      ]
     },
     "execution_count": 66,
     "metadata": {},
     "output_type": "execute_result"
    }
   ],
   "source": [
    "data[['returns', 'strategy']].mean() * 252     #年化收益率；"
   ]
  },
  {
   "cell_type": "code",
   "execution_count": 67,
   "id": "44c4316e",
   "metadata": {},
   "outputs": [
    {
     "data": {
      "text/plain": [
       "returns     0.160715\n",
       "strategy    0.085676\n",
       "dtype: float64"
      ]
     },
     "execution_count": 67,
     "metadata": {},
     "output_type": "execute_result"
    }
   ],
   "source": [
    "data[['returns', 'strategy']].std() * 252 ** 0.5   #年化风险；"
   ]
  },
  {
   "cell_type": "code",
   "execution_count": 68,
   "id": "464df8b1",
   "metadata": {},
   "outputs": [],
   "source": [
    "data['cumret'] = data['strategy'].cumsum().apply(np.exp) #复利收益"
   ]
  },
  {
   "cell_type": "code",
   "execution_count": 69,
   "id": "3be7c74a",
   "metadata": {},
   "outputs": [],
   "source": [
    "data['cummax'] = data['cumret'].cummax()"
   ]
  },
  {
   "cell_type": "code",
   "execution_count": 70,
   "id": "1d97ea53",
   "metadata": {},
   "outputs": [
    {
     "data": {
      "text/html": [
       "<div>\n",
       "<style scoped>\n",
       "    .dataframe tbody tr th:only-of-type {\n",
       "        vertical-align: middle;\n",
       "    }\n",
       "\n",
       "    .dataframe tbody tr th {\n",
       "        vertical-align: top;\n",
       "    }\n",
       "\n",
       "    .dataframe thead th {\n",
       "        text-align: right;\n",
       "    }\n",
       "</style>\n",
       "<table border=\"1\" class=\"dataframe\">\n",
       "  <thead>\n",
       "    <tr style=\"text-align: right;\">\n",
       "      <th></th>\n",
       "      <th>open</th>\n",
       "      <th>price</th>\n",
       "      <th>high</th>\n",
       "      <th>low</th>\n",
       "      <th>volume</th>\n",
       "      <th>code</th>\n",
       "      <th>SMA_10</th>\n",
       "      <th>SMA_60</th>\n",
       "      <th>position</th>\n",
       "      <th>returns</th>\n",
       "      <th>strategy</th>\n",
       "      <th>cumret</th>\n",
       "      <th>cummax</th>\n",
       "    </tr>\n",
       "    <tr>\n",
       "      <th>date</th>\n",
       "      <th></th>\n",
       "      <th></th>\n",
       "      <th></th>\n",
       "      <th></th>\n",
       "      <th></th>\n",
       "      <th></th>\n",
       "      <th></th>\n",
       "      <th></th>\n",
       "      <th></th>\n",
       "      <th></th>\n",
       "      <th></th>\n",
       "      <th></th>\n",
       "      <th></th>\n",
       "    </tr>\n",
       "  </thead>\n",
       "  <tbody>\n",
       "    <tr>\n",
       "      <th>2021-12-27</th>\n",
       "      <td>4918.15</td>\n",
       "      <td>4919.32</td>\n",
       "      <td>4939.69</td>\n",
       "      <td>4894.16</td>\n",
       "      <td>124100952.0</td>\n",
       "      <td>hs300</td>\n",
       "      <td>4954.285</td>\n",
       "      <td>4910.477167</td>\n",
       "      <td>1</td>\n",
       "      <td>-0.000411</td>\n",
       "      <td>-0.000411</td>\n",
       "      <td>0.933538</td>\n",
       "      <td>1.036095</td>\n",
       "    </tr>\n",
       "    <tr>\n",
       "      <th>2021-12-28</th>\n",
       "      <td>4923.69</td>\n",
       "      <td>4955.96</td>\n",
       "      <td>4959.14</td>\n",
       "      <td>4913.60</td>\n",
       "      <td>130457757.0</td>\n",
       "      <td>hs300</td>\n",
       "      <td>4944.911</td>\n",
       "      <td>4911.679333</td>\n",
       "      <td>1</td>\n",
       "      <td>0.007421</td>\n",
       "      <td>0.007421</td>\n",
       "      <td>0.940491</td>\n",
       "      <td>1.036095</td>\n",
       "    </tr>\n",
       "    <tr>\n",
       "      <th>2021-12-29</th>\n",
       "      <td>4958.65</td>\n",
       "      <td>4883.48</td>\n",
       "      <td>4958.65</td>\n",
       "      <td>4883.48</td>\n",
       "      <td>113587002.0</td>\n",
       "      <td>hs300</td>\n",
       "      <td>4932.669</td>\n",
       "      <td>4912.505167</td>\n",
       "      <td>1</td>\n",
       "      <td>-0.014733</td>\n",
       "      <td>-0.014733</td>\n",
       "      <td>0.926736</td>\n",
       "      <td>1.036095</td>\n",
       "    </tr>\n",
       "    <tr>\n",
       "      <th>2021-12-30</th>\n",
       "      <td>4882.16</td>\n",
       "      <td>4921.51</td>\n",
       "      <td>4940.18</td>\n",
       "      <td>4878.65</td>\n",
       "      <td>121617178.0</td>\n",
       "      <td>hs300</td>\n",
       "      <td>4921.347</td>\n",
       "      <td>4913.424000</td>\n",
       "      <td>1</td>\n",
       "      <td>0.007757</td>\n",
       "      <td>0.007757</td>\n",
       "      <td>0.933953</td>\n",
       "      <td>1.036095</td>\n",
       "    </tr>\n",
       "    <tr>\n",
       "      <th>2021-12-31</th>\n",
       "      <td>4937.46</td>\n",
       "      <td>4940.37</td>\n",
       "      <td>4950.36</td>\n",
       "      <td>4923.14</td>\n",
       "      <td>121313737.0</td>\n",
       "      <td>hs300</td>\n",
       "      <td>4919.908</td>\n",
       "      <td>4913.597833</td>\n",
       "      <td>1</td>\n",
       "      <td>0.003825</td>\n",
       "      <td>0.003825</td>\n",
       "      <td>0.937532</td>\n",
       "      <td>1.036095</td>\n",
       "    </tr>\n",
       "  </tbody>\n",
       "</table>\n",
       "</div>"
      ],
      "text/plain": [
       "               open    price     high      low       volume   code    SMA_10  \\\n",
       "date                                                                           \n",
       "2021-12-27  4918.15  4919.32  4939.69  4894.16  124100952.0  hs300  4954.285   \n",
       "2021-12-28  4923.69  4955.96  4959.14  4913.60  130457757.0  hs300  4944.911   \n",
       "2021-12-29  4958.65  4883.48  4958.65  4883.48  113587002.0  hs300  4932.669   \n",
       "2021-12-30  4882.16  4921.51  4940.18  4878.65  121617178.0  hs300  4921.347   \n",
       "2021-12-31  4937.46  4940.37  4950.36  4923.14  121313737.0  hs300  4919.908   \n",
       "\n",
       "                 SMA_60  position   returns  strategy    cumret    cummax  \n",
       "date                                                                       \n",
       "2021-12-27  4910.477167         1 -0.000411 -0.000411  0.933538  1.036095  \n",
       "2021-12-28  4911.679333         1  0.007421  0.007421  0.940491  1.036095  \n",
       "2021-12-29  4912.505167         1 -0.014733 -0.014733  0.926736  1.036095  \n",
       "2021-12-30  4913.424000         1  0.007757  0.007757  0.933953  1.036095  \n",
       "2021-12-31  4913.597833         1  0.003825  0.003825  0.937532  1.036095  "
      ]
     },
     "execution_count": 70,
     "metadata": {},
     "output_type": "execute_result"
    }
   ],
   "source": [
    "data.tail()"
   ]
  },
  {
   "cell_type": "code",
   "execution_count": 71,
   "id": "ac6343e3",
   "metadata": {},
   "outputs": [
    {
     "data": {
      "text/plain": [
       "<AxesSubplot:xlabel='date'>"
      ]
     },
     "execution_count": 71,
     "metadata": {},
     "output_type": "execute_result"
    },
    {
     "data": {
      "image/png": "[encoded data removed]",
      "text/plain": [
       "<Figure size 720x432 with 1 Axes>"
      ]
     },
     "metadata": {
      "needs_background": "light"
     },
     "output_type": "display_data"
    }
   ],
   "source": [
    "data[['cumret', 'cummax']].plot(figsize=(10, 6))"
   ]
  },
  {
   "cell_type": "code",
   "execution_count": 72,
   "id": "96fb8df1",
   "metadata": {},
   "outputs": [],
   "source": [
    "drawdown = (data['cummax'] - data['cumret'])"
   ]
  },
  {
   "cell_type": "code",
   "execution_count": 73,
   "id": "764b4c5d",
   "metadata": {},
   "outputs": [
    {
     "data": {
      "text/plain": [
       "0.109939136839454"
      ]
     },
     "execution_count": 73,
     "metadata": {},
     "output_type": "execute_result"
    }
   ],
   "source": [
    "drawdown.max()           #计算原理：最大回撤；"
   ]
  },
  {
   "cell_type": "code",
   "execution_count": null,
   "id": "65dd9c48",
   "metadata": {},
   "outputs": [],
   "source": []
  }
 ],
 "metadata": {
  "kernelspec": {
   "display_name": "Python 3",
   "language": "python",
   "name": "python3"
  },
  "language_info": {
   "codemirror_mode": {
    "name": "ipython",
    "version": 3
   },
   "file_extension": ".py",
   "mimetype": "text/x-python",
   "name": "python",
   "nbconvert_exporter": "python",
   "pygments_lexer": "ipython3",
   "version": "3.8.8"
  }
 },
 "nbformat": 4,
 "nbformat_minor": 5
}
