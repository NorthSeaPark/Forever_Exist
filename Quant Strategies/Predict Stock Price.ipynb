{
 "cells": [
  {
   "cell_type": "code",
   "execution_count": 1,
   "id": "f4737086",
   "metadata": {},
   "outputs": [],
   "source": [
    "import numpy as np\n",
    "import pandas as pd\n",
    "from sklearn.tree import DecisionTreeRegressor\n",
    "from sklearn.linear_model import LinearRegression\n",
    "from sklearn.model_selection import train_test_split\n",
    "import matplotlib.pyplot as plt\n",
    "plt.style.use('bmh')"
   ]
  },
  {
   "cell_type": "code",
   "execution_count": 3,
   "id": "77b85cfd",
   "metadata": {},
   "outputs": [
    {
     "data": {
      "text/html": [
       "<div>\n",
       "<style scoped>\n",
       "    .dataframe tbody tr th:only-of-type {\n",
       "        vertical-align: middle;\n",
       "    }\n",
       "\n",
       "    .dataframe tbody tr th {\n",
       "        vertical-align: top;\n",
       "    }\n",
       "\n",
       "    .dataframe thead th {\n",
       "        text-align: right;\n",
       "    }\n",
       "</style>\n",
       "<table border=\"1\" class=\"dataframe\">\n",
       "  <thead>\n",
       "    <tr style=\"text-align: right;\">\n",
       "      <th></th>\n",
       "      <th>Date</th>\n",
       "      <th>Open</th>\n",
       "      <th>High</th>\n",
       "      <th>Low</th>\n",
       "      <th>Close</th>\n",
       "      <th>Adj Close</th>\n",
       "      <th>Volume</th>\n",
       "    </tr>\n",
       "  </thead>\n",
       "  <tbody>\n",
       "    <tr>\n",
       "      <th>0</th>\n",
       "      <td>2021-01-13</td>\n",
       "      <td>9.59</td>\n",
       "      <td>9.93</td>\n",
       "      <td>9.43</td>\n",
       "      <td>9.81</td>\n",
       "      <td>9.81</td>\n",
       "      <td>25316500</td>\n",
       "    </tr>\n",
       "    <tr>\n",
       "      <th>1</th>\n",
       "      <td>2021-01-14</td>\n",
       "      <td>9.86</td>\n",
       "      <td>10.04</td>\n",
       "      <td>9.82</td>\n",
       "      <td>9.91</td>\n",
       "      <td>9.91</td>\n",
       "      <td>19469100</td>\n",
       "    </tr>\n",
       "    <tr>\n",
       "      <th>2</th>\n",
       "      <td>2021-01-15</td>\n",
       "      <td>9.97</td>\n",
       "      <td>10.01</td>\n",
       "      <td>9.66</td>\n",
       "      <td>9.67</td>\n",
       "      <td>9.67</td>\n",
       "      <td>21066800</td>\n",
       "    </tr>\n",
       "    <tr>\n",
       "      <th>3</th>\n",
       "      <td>2021-01-19</td>\n",
       "      <td>9.77</td>\n",
       "      <td>9.95</td>\n",
       "      <td>9.71</td>\n",
       "      <td>9.94</td>\n",
       "      <td>9.94</td>\n",
       "      <td>24050800</td>\n",
       "    </tr>\n",
       "    <tr>\n",
       "      <th>4</th>\n",
       "      <td>2021-01-20</td>\n",
       "      <td>9.95</td>\n",
       "      <td>10.33</td>\n",
       "      <td>9.91</td>\n",
       "      <td>10.22</td>\n",
       "      <td>10.22</td>\n",
       "      <td>44028700</td>\n",
       "    </tr>\n",
       "    <tr>\n",
       "      <th>5</th>\n",
       "      <td>2021-01-21</td>\n",
       "      <td>10.30</td>\n",
       "      <td>11.09</td>\n",
       "      <td>10.19</td>\n",
       "      <td>10.35</td>\n",
       "      <td>10.35</td>\n",
       "      <td>56310500</td>\n",
       "    </tr>\n",
       "    <tr>\n",
       "      <th>6</th>\n",
       "      <td>2021-01-22</td>\n",
       "      <td>10.39</td>\n",
       "      <td>10.83</td>\n",
       "      <td>10.35</td>\n",
       "      <td>10.71</td>\n",
       "      <td>10.71</td>\n",
       "      <td>33810200</td>\n",
       "    </tr>\n",
       "    <tr>\n",
       "      <th>7</th>\n",
       "      <td>2021-01-25</td>\n",
       "      <td>10.97</td>\n",
       "      <td>11.02</td>\n",
       "      <td>10.25</td>\n",
       "      <td>10.32</td>\n",
       "      <td>10.32</td>\n",
       "      <td>32702200</td>\n",
       "    </tr>\n",
       "  </tbody>\n",
       "</table>\n",
       "</div>"
      ],
      "text/plain": [
       "         Date   Open   High    Low  Close  Adj Close    Volume\n",
       "0  2021-01-13   9.59   9.93   9.43   9.81       9.81  25316500\n",
       "1  2021-01-14   9.86  10.04   9.82   9.91       9.91  19469100\n",
       "2  2021-01-15   9.97  10.01   9.66   9.67       9.67  21066800\n",
       "3  2021-01-19   9.77   9.95   9.71   9.94       9.94  24050800\n",
       "4  2021-01-20   9.95  10.33   9.91  10.22      10.22  44028700\n",
       "5  2021-01-21  10.30  11.09  10.19  10.35      10.35  56310500\n",
       "6  2021-01-22  10.39  10.83  10.35  10.71      10.71  33810200\n",
       "7  2021-01-25  10.97  11.02  10.25  10.32      10.32  32702200"
      ]
     },
     "execution_count": 3,
     "metadata": {},
     "output_type": "execute_result"
    }
   ],
   "source": [
    "df = pd.read_csv('ZNGA.csv')\n",
    "df.head(8)"
   ]
  },
  {
   "cell_type": "code",
   "execution_count": 4,
   "id": "2c2e79fe",
   "metadata": {},
   "outputs": [
    {
     "data": {
      "text/plain": [
       "(253, 7)"
      ]
     },
     "execution_count": 4,
     "metadata": {},
     "output_type": "execute_result"
    }
   ],
   "source": [
    "df.shape"
   ]
  },
  {
   "cell_type": "code",
   "execution_count": null,
   "id": "30cfe046",
   "metadata": {},
   "outputs": [],
   "source": [
    "#Visualize the close price data"
   ]
  }
 ],
 "metadata": {
  "kernelspec": {
   "display_name": "Python 3",
   "language": "python",
   "name": "python3"
  },
  "language_info": {
   "codemirror_mode": {
    "name": "ipython",
    "version": 3
   },
   "file_extension": ".py",
   "mimetype": "text/x-python",
   "name": "python",
   "nbconvert_exporter": "python",
   "pygments_lexer": "ipython3",
   "version": "3.8.8"
  }
 },
 "nbformat": 4,
 "nbformat_minor": 5
}
