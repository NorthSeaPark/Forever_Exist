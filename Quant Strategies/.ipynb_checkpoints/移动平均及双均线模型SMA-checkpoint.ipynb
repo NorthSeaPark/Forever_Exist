{
 "cells": [
  {
   "cell_type": "code",
   "execution_count": 1,
   "id": "962c35b0",
   "metadata": {},
   "outputs": [],
   "source": [
    "%matplotlib inline\n",
    "import matplotlib.pyplot as plt\n",
    "import seaborn\n",
    "# plt.style.use('seaborn')             ggplot;\n",
    "import matplotlib as mpl\n",
    "mpl.rcParams['font.family'] = 'serif'               #解决一些字体显示乱码问题\n",
    "import warnings; warnings.simplefilter('ignore')       #忽略警告信息；"
   ]
  },
  {
   "cell_type": "code",
   "execution_count": 2,
   "id": "1107ad31",
   "metadata": {},
   "outputs": [],
   "source": [
    "import numpy as np\n",
    "import pandas as pd\n",
    "import tushare as ts"
   ]
  },
  {
   "cell_type": "code",
   "execution_count": 3,
   "id": "3c199919",
   "metadata": {},
   "outputs": [
    {
     "name": "stdout",
     "output_type": "stream",
     "text": [
      "本接口即将停止更新，请尽快使用Pro版接口：https://waditu.com/document/2\n"
     ]
    }
   ],
   "source": [
    "data = ts.get_k_data('600030', start = '2019-01-01', end = '2021-12-31')"
   ]
  },
  {
   "cell_type": "code",
   "execution_count": 4,
   "id": "408f5a76",
   "metadata": {},
   "outputs": [
    {
     "data": {
      "text/html": [
       "<div>\n",
       "<style scoped>\n",
       "    .dataframe tbody tr th:only-of-type {\n",
       "        vertical-align: middle;\n",
       "    }\n",
       "\n",
       "    .dataframe tbody tr th {\n",
       "        vertical-align: top;\n",
       "    }\n",
       "\n",
       "    .dataframe thead th {\n",
       "        text-align: right;\n",
       "    }\n",
       "</style>\n",
       "<table border=\"1\" class=\"dataframe\">\n",
       "  <thead>\n",
       "    <tr style=\"text-align: right;\">\n",
       "      <th></th>\n",
       "      <th>date</th>\n",
       "      <th>open</th>\n",
       "      <th>close</th>\n",
       "      <th>high</th>\n",
       "      <th>low</th>\n",
       "      <th>volume</th>\n",
       "      <th>code</th>\n",
       "    </tr>\n",
       "  </thead>\n",
       "  <tbody>\n",
       "    <tr>\n",
       "      <th>0</th>\n",
       "      <td>2019-01-10</td>\n",
       "      <td>17.15</td>\n",
       "      <td>16.80</td>\n",
       "      <td>17.15</td>\n",
       "      <td>16.75</td>\n",
       "      <td>2186844.0</td>\n",
       "      <td>600030</td>\n",
       "    </tr>\n",
       "    <tr>\n",
       "      <th>1</th>\n",
       "      <td>2019-01-11</td>\n",
       "      <td>16.80</td>\n",
       "      <td>16.97</td>\n",
       "      <td>17.03</td>\n",
       "      <td>16.74</td>\n",
       "      <td>1127695.0</td>\n",
       "      <td>600030</td>\n",
       "    </tr>\n",
       "    <tr>\n",
       "      <th>2</th>\n",
       "      <td>2019-01-14</td>\n",
       "      <td>17.11</td>\n",
       "      <td>17.00</td>\n",
       "      <td>17.26</td>\n",
       "      <td>16.97</td>\n",
       "      <td>861108.0</td>\n",
       "      <td>600030</td>\n",
       "    </tr>\n",
       "    <tr>\n",
       "      <th>3</th>\n",
       "      <td>2019-01-15</td>\n",
       "      <td>17.04</td>\n",
       "      <td>17.60</td>\n",
       "      <td>17.72</td>\n",
       "      <td>17.01</td>\n",
       "      <td>1805469.0</td>\n",
       "      <td>600030</td>\n",
       "    </tr>\n",
       "    <tr>\n",
       "      <th>4</th>\n",
       "      <td>2019-01-16</td>\n",
       "      <td>17.63</td>\n",
       "      <td>17.64</td>\n",
       "      <td>17.75</td>\n",
       "      <td>17.48</td>\n",
       "      <td>1104443.0</td>\n",
       "      <td>600030</td>\n",
       "    </tr>\n",
       "  </tbody>\n",
       "</table>\n",
       "</div>"
      ],
      "text/plain": [
       "         date   open  close   high    low     volume    code\n",
       "0  2019-01-10  17.15  16.80  17.15  16.75  2186844.0  600030\n",
       "1  2019-01-11  16.80  16.97  17.03  16.74  1127695.0  600030\n",
       "2  2019-01-14  17.11  17.00  17.26  16.97   861108.0  600030\n",
       "3  2019-01-15  17.04  17.60  17.72  17.01  1805469.0  600030\n",
       "4  2019-01-16  17.63  17.64  17.75  17.48  1104443.0  600030"
      ]
     },
     "execution_count": 4,
     "metadata": {},
     "output_type": "execute_result"
    }
   ],
   "source": [
    "data.head()"
   ]
  },
  {
   "cell_type": "code",
   "execution_count": 5,
   "id": "eb30d2be",
   "metadata": {},
   "outputs": [
    {
     "data": {
      "text/html": [
       "<div>\n",
       "<style scoped>\n",
       "    .dataframe tbody tr th:only-of-type {\n",
       "        vertical-align: middle;\n",
       "    }\n",
       "\n",
       "    .dataframe tbody tr th {\n",
       "        vertical-align: top;\n",
       "    }\n",
       "\n",
       "    .dataframe thead th {\n",
       "        text-align: right;\n",
       "    }\n",
       "</style>\n",
       "<table border=\"1\" class=\"dataframe\">\n",
       "  <thead>\n",
       "    <tr style=\"text-align: right;\">\n",
       "      <th></th>\n",
       "      <th>date</th>\n",
       "      <th>open</th>\n",
       "      <th>close</th>\n",
       "      <th>high</th>\n",
       "      <th>low</th>\n",
       "      <th>volume</th>\n",
       "      <th>code</th>\n",
       "    </tr>\n",
       "  </thead>\n",
       "  <tbody>\n",
       "    <tr>\n",
       "      <th>718</th>\n",
       "      <td>2021-12-27</td>\n",
       "      <td>25.81</td>\n",
       "      <td>26.00</td>\n",
       "      <td>26.05</td>\n",
       "      <td>25.64</td>\n",
       "      <td>451896.0</td>\n",
       "      <td>600030</td>\n",
       "    </tr>\n",
       "    <tr>\n",
       "      <th>719</th>\n",
       "      <td>2021-12-28</td>\n",
       "      <td>26.10</td>\n",
       "      <td>26.05</td>\n",
       "      <td>26.28</td>\n",
       "      <td>25.84</td>\n",
       "      <td>549142.0</td>\n",
       "      <td>600030</td>\n",
       "    </tr>\n",
       "    <tr>\n",
       "      <th>720</th>\n",
       "      <td>2021-12-29</td>\n",
       "      <td>26.13</td>\n",
       "      <td>25.88</td>\n",
       "      <td>26.13</td>\n",
       "      <td>25.83</td>\n",
       "      <td>485993.0</td>\n",
       "      <td>600030</td>\n",
       "    </tr>\n",
       "    <tr>\n",
       "      <th>721</th>\n",
       "      <td>2021-12-30</td>\n",
       "      <td>25.85</td>\n",
       "      <td>26.37</td>\n",
       "      <td>26.62</td>\n",
       "      <td>25.85</td>\n",
       "      <td>781346.0</td>\n",
       "      <td>600030</td>\n",
       "    </tr>\n",
       "    <tr>\n",
       "      <th>722</th>\n",
       "      <td>2021-12-31</td>\n",
       "      <td>26.46</td>\n",
       "      <td>26.41</td>\n",
       "      <td>26.69</td>\n",
       "      <td>26.39</td>\n",
       "      <td>670511.0</td>\n",
       "      <td>600030</td>\n",
       "    </tr>\n",
       "  </tbody>\n",
       "</table>\n",
       "</div>"
      ],
      "text/plain": [
       "           date   open  close   high    low    volume    code\n",
       "718  2021-12-27  25.81  26.00  26.05  25.64  451896.0  600030\n",
       "719  2021-12-28  26.10  26.05  26.28  25.84  549142.0  600030\n",
       "720  2021-12-29  26.13  25.88  26.13  25.83  485993.0  600030\n",
       "721  2021-12-30  25.85  26.37  26.62  25.85  781346.0  600030\n",
       "722  2021-12-31  26.46  26.41  26.69  26.39  670511.0  600030"
      ]
     },
     "execution_count": 5,
     "metadata": {},
     "output_type": "execute_result"
    }
   ],
   "source": [
    "data.tail()"
   ]
  },
  {
   "cell_type": "code",
   "execution_count": 6,
   "id": "95dc3168",
   "metadata": {},
   "outputs": [],
   "source": [
    "data['SMA_20'] = data['close'].rolling(20).mean()"
   ]
  },
  {
   "cell_type": "code",
   "execution_count": 7,
   "id": "9cef7b55",
   "metadata": {},
   "outputs": [],
   "source": [
    "data['SMA_60'] = data['close'].rolling(60).mean()"
   ]
  },
  {
   "cell_type": "code",
   "execution_count": 8,
   "id": "23649121",
   "metadata": {},
   "outputs": [
    {
     "data": {
      "text/html": [
       "<div>\n",
       "<style scoped>\n",
       "    .dataframe tbody tr th:only-of-type {\n",
       "        vertical-align: middle;\n",
       "    }\n",
       "\n",
       "    .dataframe tbody tr th {\n",
       "        vertical-align: top;\n",
       "    }\n",
       "\n",
       "    .dataframe thead th {\n",
       "        text-align: right;\n",
       "    }\n",
       "</style>\n",
       "<table border=\"1\" class=\"dataframe\">\n",
       "  <thead>\n",
       "    <tr style=\"text-align: right;\">\n",
       "      <th></th>\n",
       "      <th>date</th>\n",
       "      <th>open</th>\n",
       "      <th>close</th>\n",
       "      <th>high</th>\n",
       "      <th>low</th>\n",
       "      <th>volume</th>\n",
       "      <th>code</th>\n",
       "      <th>SMA_20</th>\n",
       "      <th>SMA_60</th>\n",
       "    </tr>\n",
       "  </thead>\n",
       "  <tbody>\n",
       "    <tr>\n",
       "      <th>718</th>\n",
       "      <td>2021-12-27</td>\n",
       "      <td>25.81</td>\n",
       "      <td>26.00</td>\n",
       "      <td>26.05</td>\n",
       "      <td>25.64</td>\n",
       "      <td>451896.0</td>\n",
       "      <td>600030</td>\n",
       "      <td>25.8435</td>\n",
       "      <td>25.286167</td>\n",
       "    </tr>\n",
       "    <tr>\n",
       "      <th>719</th>\n",
       "      <td>2021-12-28</td>\n",
       "      <td>26.10</td>\n",
       "      <td>26.05</td>\n",
       "      <td>26.28</td>\n",
       "      <td>25.84</td>\n",
       "      <td>549142.0</td>\n",
       "      <td>600030</td>\n",
       "      <td>25.9575</td>\n",
       "      <td>25.289333</td>\n",
       "    </tr>\n",
       "    <tr>\n",
       "      <th>720</th>\n",
       "      <td>2021-12-29</td>\n",
       "      <td>26.13</td>\n",
       "      <td>25.88</td>\n",
       "      <td>26.13</td>\n",
       "      <td>25.83</td>\n",
       "      <td>485993.0</td>\n",
       "      <td>600030</td>\n",
       "      <td>26.0400</td>\n",
       "      <td>25.293833</td>\n",
       "    </tr>\n",
       "    <tr>\n",
       "      <th>721</th>\n",
       "      <td>2021-12-30</td>\n",
       "      <td>25.85</td>\n",
       "      <td>26.37</td>\n",
       "      <td>26.62</td>\n",
       "      <td>25.85</td>\n",
       "      <td>781346.0</td>\n",
       "      <td>600030</td>\n",
       "      <td>26.1385</td>\n",
       "      <td>25.312000</td>\n",
       "    </tr>\n",
       "    <tr>\n",
       "      <th>722</th>\n",
       "      <td>2021-12-31</td>\n",
       "      <td>26.46</td>\n",
       "      <td>26.41</td>\n",
       "      <td>26.69</td>\n",
       "      <td>26.39</td>\n",
       "      <td>670511.0</td>\n",
       "      <td>600030</td>\n",
       "      <td>26.2200</td>\n",
       "      <td>25.323000</td>\n",
       "    </tr>\n",
       "  </tbody>\n",
       "</table>\n",
       "</div>"
      ],
      "text/plain": [
       "           date   open  close   high    low    volume    code   SMA_20  \\\n",
       "718  2021-12-27  25.81  26.00  26.05  25.64  451896.0  600030  25.8435   \n",
       "719  2021-12-28  26.10  26.05  26.28  25.84  549142.0  600030  25.9575   \n",
       "720  2021-12-29  26.13  25.88  26.13  25.83  485993.0  600030  26.0400   \n",
       "721  2021-12-30  25.85  26.37  26.62  25.85  781346.0  600030  26.1385   \n",
       "722  2021-12-31  26.46  26.41  26.69  26.39  670511.0  600030  26.2200   \n",
       "\n",
       "        SMA_60  \n",
       "718  25.286167  \n",
       "719  25.289333  \n",
       "720  25.293833  \n",
       "721  25.312000  \n",
       "722  25.323000  "
      ]
     },
     "execution_count": 8,
     "metadata": {},
     "output_type": "execute_result"
    }
   ],
   "source": [
    "data.tail()"
   ]
  },
  {
   "cell_type": "code",
   "execution_count": 9,
   "id": "5063e36c",
   "metadata": {},
   "outputs": [
    {
     "data": {
      "text/plain": [
       "<AxesSubplot:>"
      ]
     },
     "execution_count": 9,
     "metadata": {},
     "output_type": "execute_result"
    },
    {
     "data": {
      "image/png": "[encoded data removed]",
      "text/plain": [
       "<Figure size 720x432 with 1 Axes>"
      ]
     },
     "metadata": {
      "needs_background": "light"
     },
     "output_type": "display_data"
    }
   ],
   "source": [
    "data[['close', 'SMA_20', 'SMA_60']].plot(figsize = (10,6))"
   ]
  },
  {
   "cell_type": "code",
   "execution_count": 10,
   "id": "45a5155e",
   "metadata": {},
   "outputs": [],
   "source": [
    "#计算股票的return\n",
    "data['returns'] = np.log(data['close']/data['close'].shift(1))"
   ]
  },
  {
   "cell_type": "code",
   "execution_count": 11,
   "id": "4f45effb",
   "metadata": {},
   "outputs": [],
   "source": [
    "data['returns_dis'] = data['close'].pct_change()"
   ]
  },
  {
   "cell_type": "code",
   "execution_count": 12,
   "id": "68998279",
   "metadata": {},
   "outputs": [
    {
     "data": {
      "text/html": [
       "<div>\n",
       "<style scoped>\n",
       "    .dataframe tbody tr th:only-of-type {\n",
       "        vertical-align: middle;\n",
       "    }\n",
       "\n",
       "    .dataframe tbody tr th {\n",
       "        vertical-align: top;\n",
       "    }\n",
       "\n",
       "    .dataframe thead th {\n",
       "        text-align: right;\n",
       "    }\n",
       "</style>\n",
       "<table border=\"1\" class=\"dataframe\">\n",
       "  <thead>\n",
       "    <tr style=\"text-align: right;\">\n",
       "      <th></th>\n",
       "      <th>date</th>\n",
       "      <th>open</th>\n",
       "      <th>close</th>\n",
       "      <th>high</th>\n",
       "      <th>low</th>\n",
       "      <th>volume</th>\n",
       "      <th>code</th>\n",
       "      <th>SMA_20</th>\n",
       "      <th>SMA_60</th>\n",
       "      <th>returns</th>\n",
       "      <th>returns_dis</th>\n",
       "    </tr>\n",
       "  </thead>\n",
       "  <tbody>\n",
       "    <tr>\n",
       "      <th>0</th>\n",
       "      <td>2019-01-10</td>\n",
       "      <td>17.15</td>\n",
       "      <td>16.80</td>\n",
       "      <td>17.15</td>\n",
       "      <td>16.75</td>\n",
       "      <td>2186844.0</td>\n",
       "      <td>600030</td>\n",
       "      <td>NaN</td>\n",
       "      <td>NaN</td>\n",
       "      <td>NaN</td>\n",
       "      <td>NaN</td>\n",
       "    </tr>\n",
       "    <tr>\n",
       "      <th>1</th>\n",
       "      <td>2019-01-11</td>\n",
       "      <td>16.80</td>\n",
       "      <td>16.97</td>\n",
       "      <td>17.03</td>\n",
       "      <td>16.74</td>\n",
       "      <td>1127695.0</td>\n",
       "      <td>600030</td>\n",
       "      <td>NaN</td>\n",
       "      <td>NaN</td>\n",
       "      <td>0.010068</td>\n",
       "      <td>0.010119</td>\n",
       "    </tr>\n",
       "    <tr>\n",
       "      <th>2</th>\n",
       "      <td>2019-01-14</td>\n",
       "      <td>17.11</td>\n",
       "      <td>17.00</td>\n",
       "      <td>17.26</td>\n",
       "      <td>16.97</td>\n",
       "      <td>861108.0</td>\n",
       "      <td>600030</td>\n",
       "      <td>NaN</td>\n",
       "      <td>NaN</td>\n",
       "      <td>0.001766</td>\n",
       "      <td>0.001768</td>\n",
       "    </tr>\n",
       "    <tr>\n",
       "      <th>3</th>\n",
       "      <td>2019-01-15</td>\n",
       "      <td>17.04</td>\n",
       "      <td>17.60</td>\n",
       "      <td>17.72</td>\n",
       "      <td>17.01</td>\n",
       "      <td>1805469.0</td>\n",
       "      <td>600030</td>\n",
       "      <td>NaN</td>\n",
       "      <td>NaN</td>\n",
       "      <td>0.034686</td>\n",
       "      <td>0.035294</td>\n",
       "    </tr>\n",
       "    <tr>\n",
       "      <th>4</th>\n",
       "      <td>2019-01-16</td>\n",
       "      <td>17.63</td>\n",
       "      <td>17.64</td>\n",
       "      <td>17.75</td>\n",
       "      <td>17.48</td>\n",
       "      <td>1104443.0</td>\n",
       "      <td>600030</td>\n",
       "      <td>NaN</td>\n",
       "      <td>NaN</td>\n",
       "      <td>0.002270</td>\n",
       "      <td>0.002273</td>\n",
       "    </tr>\n",
       "  </tbody>\n",
       "</table>\n",
       "</div>"
      ],
      "text/plain": [
       "         date   open  close   high    low     volume    code  SMA_20  SMA_60  \\\n",
       "0  2019-01-10  17.15  16.80  17.15  16.75  2186844.0  600030     NaN     NaN   \n",
       "1  2019-01-11  16.80  16.97  17.03  16.74  1127695.0  600030     NaN     NaN   \n",
       "2  2019-01-14  17.11  17.00  17.26  16.97   861108.0  600030     NaN     NaN   \n",
       "3  2019-01-15  17.04  17.60  17.72  17.01  1805469.0  600030     NaN     NaN   \n",
       "4  2019-01-16  17.63  17.64  17.75  17.48  1104443.0  600030     NaN     NaN   \n",
       "\n",
       "    returns  returns_dis  \n",
       "0       NaN          NaN  \n",
       "1  0.010068     0.010119  \n",
       "2  0.001766     0.001768  \n",
       "3  0.034686     0.035294  \n",
       "4  0.002270     0.002273  "
      ]
     },
     "execution_count": 12,
     "metadata": {},
     "output_type": "execute_result"
    }
   ],
   "source": [
    "data.head()"
   ]
  },
  {
   "cell_type": "code",
   "execution_count": 13,
   "id": "d8036c39",
   "metadata": {},
   "outputs": [
    {
     "data": {
      "text/html": [
       "<div>\n",
       "<style scoped>\n",
       "    .dataframe tbody tr th:only-of-type {\n",
       "        vertical-align: middle;\n",
       "    }\n",
       "\n",
       "    .dataframe tbody tr th {\n",
       "        vertical-align: top;\n",
       "    }\n",
       "\n",
       "    .dataframe thead th {\n",
       "        text-align: right;\n",
       "    }\n",
       "</style>\n",
       "<table border=\"1\" class=\"dataframe\">\n",
       "  <thead>\n",
       "    <tr style=\"text-align: right;\">\n",
       "      <th></th>\n",
       "      <th>date</th>\n",
       "      <th>open</th>\n",
       "      <th>close</th>\n",
       "      <th>high</th>\n",
       "      <th>low</th>\n",
       "      <th>volume</th>\n",
       "      <th>code</th>\n",
       "      <th>SMA_20</th>\n",
       "      <th>SMA_60</th>\n",
       "      <th>returns</th>\n",
       "      <th>returns_dis</th>\n",
       "    </tr>\n",
       "  </thead>\n",
       "  <tbody>\n",
       "    <tr>\n",
       "      <th>718</th>\n",
       "      <td>2021-12-27</td>\n",
       "      <td>25.81</td>\n",
       "      <td>26.00</td>\n",
       "      <td>26.05</td>\n",
       "      <td>25.64</td>\n",
       "      <td>451896.0</td>\n",
       "      <td>600030</td>\n",
       "      <td>25.8435</td>\n",
       "      <td>25.286167</td>\n",
       "      <td>0.011995</td>\n",
       "      <td>0.012067</td>\n",
       "    </tr>\n",
       "    <tr>\n",
       "      <th>719</th>\n",
       "      <td>2021-12-28</td>\n",
       "      <td>26.10</td>\n",
       "      <td>26.05</td>\n",
       "      <td>26.28</td>\n",
       "      <td>25.84</td>\n",
       "      <td>549142.0</td>\n",
       "      <td>600030</td>\n",
       "      <td>25.9575</td>\n",
       "      <td>25.289333</td>\n",
       "      <td>0.001921</td>\n",
       "      <td>0.001923</td>\n",
       "    </tr>\n",
       "    <tr>\n",
       "      <th>720</th>\n",
       "      <td>2021-12-29</td>\n",
       "      <td>26.13</td>\n",
       "      <td>25.88</td>\n",
       "      <td>26.13</td>\n",
       "      <td>25.83</td>\n",
       "      <td>485993.0</td>\n",
       "      <td>600030</td>\n",
       "      <td>26.0400</td>\n",
       "      <td>25.293833</td>\n",
       "      <td>-0.006547</td>\n",
       "      <td>-0.006526</td>\n",
       "    </tr>\n",
       "    <tr>\n",
       "      <th>721</th>\n",
       "      <td>2021-12-30</td>\n",
       "      <td>25.85</td>\n",
       "      <td>26.37</td>\n",
       "      <td>26.62</td>\n",
       "      <td>25.85</td>\n",
       "      <td>781346.0</td>\n",
       "      <td>600030</td>\n",
       "      <td>26.1385</td>\n",
       "      <td>25.312000</td>\n",
       "      <td>0.018757</td>\n",
       "      <td>0.018934</td>\n",
       "    </tr>\n",
       "    <tr>\n",
       "      <th>722</th>\n",
       "      <td>2021-12-31</td>\n",
       "      <td>26.46</td>\n",
       "      <td>26.41</td>\n",
       "      <td>26.69</td>\n",
       "      <td>26.39</td>\n",
       "      <td>670511.0</td>\n",
       "      <td>600030</td>\n",
       "      <td>26.2200</td>\n",
       "      <td>25.323000</td>\n",
       "      <td>0.001516</td>\n",
       "      <td>0.001517</td>\n",
       "    </tr>\n",
       "  </tbody>\n",
       "</table>\n",
       "</div>"
      ],
      "text/plain": [
       "           date   open  close   high    low    volume    code   SMA_20  \\\n",
       "718  2021-12-27  25.81  26.00  26.05  25.64  451896.0  600030  25.8435   \n",
       "719  2021-12-28  26.10  26.05  26.28  25.84  549142.0  600030  25.9575   \n",
       "720  2021-12-29  26.13  25.88  26.13  25.83  485993.0  600030  26.0400   \n",
       "721  2021-12-30  25.85  26.37  26.62  25.85  781346.0  600030  26.1385   \n",
       "722  2021-12-31  26.46  26.41  26.69  26.39  670511.0  600030  26.2200   \n",
       "\n",
       "        SMA_60   returns  returns_dis  \n",
       "718  25.286167  0.011995     0.012067  \n",
       "719  25.289333  0.001921     0.001923  \n",
       "720  25.293833 -0.006547    -0.006526  \n",
       "721  25.312000  0.018757     0.018934  \n",
       "722  25.323000  0.001516     0.001517  "
      ]
     },
     "execution_count": 13,
     "metadata": {},
     "output_type": "execute_result"
    }
   ],
   "source": [
    "data.tail()"
   ]
  },
  {
   "cell_type": "code",
   "execution_count": 14,
   "id": "1c5e7166",
   "metadata": {
    "scrolled": true
   },
   "outputs": [
    {
     "data": {
      "text/plain": [
       "<AxesSubplot:>"
      ]
     },
     "execution_count": 14,
     "metadata": {},
     "output_type": "execute_result"
    },
    {
     "data": {
      "image/png": "[encoded data removed]",
      "text/plain": [
       "<Figure size 720x432 with 1 Axes>"
      ]
     },
     "metadata": {
      "needs_background": "light"
     },
     "output_type": "display_data"
    }
   ],
   "source": [
    "#计算累计收益\n",
    "data['returns'].cumsum().apply(np.exp).plot(figsize=(10, 6))"
   ]
  },
  {
   "cell_type": "markdown",
   "id": "6a122dbc",
   "metadata": {},
   "source": [
    "<h1>SMA策略</h1>"
   ]
  },
  {
   "cell_type": "markdown",
   "id": "bc475b8c",
   "metadata": {},
   "source": [
    "<h2>准备工作 "
   ]
  },
  {
   "cell_type": "code",
   "execution_count": 15,
   "id": "f4e9da60",
   "metadata": {},
   "outputs": [
    {
     "name": "stdout",
     "output_type": "stream",
     "text": [
      "本接口即将停止更新，请尽快使用Pro版接口：https://waditu.com/document/2\n"
     ]
    }
   ],
   "source": [
    "data = ts.get_k_data('hs300', start = '2021-01-01', end='2021-12-31')"
   ]
  },
  {
   "cell_type": "code",
   "execution_count": 16,
   "id": "028f8bb8",
   "metadata": {},
   "outputs": [],
   "source": [
    "data = pd.DataFrame(data)   "
   ]
  },
  {
   "cell_type": "code",
   "execution_count": 17,
   "id": "ed12cb71",
   "metadata": {},
   "outputs": [
    {
     "data": {
      "text/html": [
       "<div>\n",
       "<style scoped>\n",
       "    .dataframe tbody tr th:only-of-type {\n",
       "        vertical-align: middle;\n",
       "    }\n",
       "\n",
       "    .dataframe tbody tr th {\n",
       "        vertical-align: top;\n",
       "    }\n",
       "\n",
       "    .dataframe thead th {\n",
       "        text-align: right;\n",
       "    }\n",
       "</style>\n",
       "<table border=\"1\" class=\"dataframe\">\n",
       "  <thead>\n",
       "    <tr style=\"text-align: right;\">\n",
       "      <th></th>\n",
       "      <th>date</th>\n",
       "      <th>open</th>\n",
       "      <th>close</th>\n",
       "      <th>high</th>\n",
       "      <th>low</th>\n",
       "      <th>volume</th>\n",
       "      <th>code</th>\n",
       "    </tr>\n",
       "  </thead>\n",
       "  <tbody>\n",
       "    <tr>\n",
       "      <th>0</th>\n",
       "      <td>2021-01-04</td>\n",
       "      <td>5212.93</td>\n",
       "      <td>5267.72</td>\n",
       "      <td>5284.43</td>\n",
       "      <td>5190.94</td>\n",
       "      <td>211711382.0</td>\n",
       "      <td>hs300</td>\n",
       "    </tr>\n",
       "    <tr>\n",
       "      <th>1</th>\n",
       "      <td>2021-01-05</td>\n",
       "      <td>5245.84</td>\n",
       "      <td>5368.50</td>\n",
       "      <td>5368.50</td>\n",
       "      <td>5234.38</td>\n",
       "      <td>224931159.0</td>\n",
       "      <td>hs300</td>\n",
       "    </tr>\n",
       "    <tr>\n",
       "      <th>2</th>\n",
       "      <td>2021-01-06</td>\n",
       "      <td>5386.51</td>\n",
       "      <td>5417.67</td>\n",
       "      <td>5433.47</td>\n",
       "      <td>5341.43</td>\n",
       "      <td>193773444.0</td>\n",
       "      <td>hs300</td>\n",
       "    </tr>\n",
       "    <tr>\n",
       "      <th>3</th>\n",
       "      <td>2021-01-07</td>\n",
       "      <td>5428.39</td>\n",
       "      <td>5513.66</td>\n",
       "      <td>5513.66</td>\n",
       "      <td>5413.35</td>\n",
       "      <td>219872080.0</td>\n",
       "      <td>hs300</td>\n",
       "    </tr>\n",
       "    <tr>\n",
       "      <th>4</th>\n",
       "      <td>2021-01-08</td>\n",
       "      <td>5526.29</td>\n",
       "      <td>5495.43</td>\n",
       "      <td>5547.47</td>\n",
       "      <td>5442.69</td>\n",
       "      <td>204324956.0</td>\n",
       "      <td>hs300</td>\n",
       "    </tr>\n",
       "  </tbody>\n",
       "</table>\n",
       "</div>"
      ],
      "text/plain": [
       "         date     open    close     high      low       volume   code\n",
       "0  2021-01-04  5212.93  5267.72  5284.43  5190.94  211711382.0  hs300\n",
       "1  2021-01-05  5245.84  5368.50  5368.50  5234.38  224931159.0  hs300\n",
       "2  2021-01-06  5386.51  5417.67  5433.47  5341.43  193773444.0  hs300\n",
       "3  2021-01-07  5428.39  5513.66  5513.66  5413.35  219872080.0  hs300\n",
       "4  2021-01-08  5526.29  5495.43  5547.47  5442.69  204324956.0  hs300"
      ]
     },
     "execution_count": 17,
     "metadata": {},
     "output_type": "execute_result"
    }
   ],
   "source": [
    "data.head()"
   ]
  },
  {
   "cell_type": "code",
   "execution_count": 18,
   "id": "06e2df0e",
   "metadata": {},
   "outputs": [],
   "source": [
    "data.set_index('date', inplace = True)"
   ]
  },
  {
   "cell_type": "code",
   "execution_count": 19,
   "id": "edb119c7",
   "metadata": {},
   "outputs": [],
   "source": [
    "data.rename(columns={'close': 'price'}, inplace=True)"
   ]
  },
  {
   "cell_type": "code",
   "execution_count": 20,
   "id": "6f765baa",
   "metadata": {},
   "outputs": [
    {
     "data": {
      "text/html": [
       "<div>\n",
       "<style scoped>\n",
       "    .dataframe tbody tr th:only-of-type {\n",
       "        vertical-align: middle;\n",
       "    }\n",
       "\n",
       "    .dataframe tbody tr th {\n",
       "        vertical-align: top;\n",
       "    }\n",
       "\n",
       "    .dataframe thead th {\n",
       "        text-align: right;\n",
       "    }\n",
       "</style>\n",
       "<table border=\"1\" class=\"dataframe\">\n",
       "  <thead>\n",
       "    <tr style=\"text-align: right;\">\n",
       "      <th></th>\n",
       "      <th>open</th>\n",
       "      <th>price</th>\n",
       "      <th>high</th>\n",
       "      <th>low</th>\n",
       "      <th>volume</th>\n",
       "      <th>code</th>\n",
       "    </tr>\n",
       "    <tr>\n",
       "      <th>date</th>\n",
       "      <th></th>\n",
       "      <th></th>\n",
       "      <th></th>\n",
       "      <th></th>\n",
       "      <th></th>\n",
       "      <th></th>\n",
       "    </tr>\n",
       "  </thead>\n",
       "  <tbody>\n",
       "    <tr>\n",
       "      <th>2021-01-04</th>\n",
       "      <td>5212.93</td>\n",
       "      <td>5267.72</td>\n",
       "      <td>5284.43</td>\n",
       "      <td>5190.94</td>\n",
       "      <td>211711382.0</td>\n",
       "      <td>hs300</td>\n",
       "    </tr>\n",
       "    <tr>\n",
       "      <th>2021-01-05</th>\n",
       "      <td>5245.84</td>\n",
       "      <td>5368.50</td>\n",
       "      <td>5368.50</td>\n",
       "      <td>5234.38</td>\n",
       "      <td>224931159.0</td>\n",
       "      <td>hs300</td>\n",
       "    </tr>\n",
       "    <tr>\n",
       "      <th>2021-01-06</th>\n",
       "      <td>5386.51</td>\n",
       "      <td>5417.67</td>\n",
       "      <td>5433.47</td>\n",
       "      <td>5341.43</td>\n",
       "      <td>193773444.0</td>\n",
       "      <td>hs300</td>\n",
       "    </tr>\n",
       "    <tr>\n",
       "      <th>2021-01-07</th>\n",
       "      <td>5428.39</td>\n",
       "      <td>5513.66</td>\n",
       "      <td>5513.66</td>\n",
       "      <td>5413.35</td>\n",
       "      <td>219872080.0</td>\n",
       "      <td>hs300</td>\n",
       "    </tr>\n",
       "    <tr>\n",
       "      <th>2021-01-08</th>\n",
       "      <td>5526.29</td>\n",
       "      <td>5495.43</td>\n",
       "      <td>5547.47</td>\n",
       "      <td>5442.69</td>\n",
       "      <td>204324956.0</td>\n",
       "      <td>hs300</td>\n",
       "    </tr>\n",
       "  </tbody>\n",
       "</table>\n",
       "</div>"
      ],
      "text/plain": [
       "               open    price     high      low       volume   code\n",
       "date                                                              \n",
       "2021-01-04  5212.93  5267.72  5284.43  5190.94  211711382.0  hs300\n",
       "2021-01-05  5245.84  5368.50  5368.50  5234.38  224931159.0  hs300\n",
       "2021-01-06  5386.51  5417.67  5433.47  5341.43  193773444.0  hs300\n",
       "2021-01-07  5428.39  5513.66  5513.66  5413.35  219872080.0  hs300\n",
       "2021-01-08  5526.29  5495.43  5547.47  5442.69  204324956.0  hs300"
      ]
     },
     "execution_count": 20,
     "metadata": {},
     "output_type": "execute_result"
    }
   ],
   "source": [
    "data.head()"
   ]
  },
  {
   "cell_type": "code",
   "execution_count": 21,
   "id": "83be4e0a",
   "metadata": {},
   "outputs": [],
   "source": [
    "data['SMA_10'] = data['price'].rolling(10).mean() #短线 10日的"
   ]
  },
  {
   "cell_type": "code",
   "execution_count": 22,
   "id": "2cf54136",
   "metadata": {},
   "outputs": [],
   "source": [
    "data['SMA_60'] = data['price'].rolling(60).mean() #长线 60日的"
   ]
  },
  {
   "cell_type": "code",
   "execution_count": 23,
   "id": "de94f680",
   "metadata": {},
   "outputs": [
    {
     "data": {
      "text/html": [
       "<div>\n",
       "<style scoped>\n",
       "    .dataframe tbody tr th:only-of-type {\n",
       "        vertical-align: middle;\n",
       "    }\n",
       "\n",
       "    .dataframe tbody tr th {\n",
       "        vertical-align: top;\n",
       "    }\n",
       "\n",
       "    .dataframe thead th {\n",
       "        text-align: right;\n",
       "    }\n",
       "</style>\n",
       "<table border=\"1\" class=\"dataframe\">\n",
       "  <thead>\n",
       "    <tr style=\"text-align: right;\">\n",
       "      <th></th>\n",
       "      <th>open</th>\n",
       "      <th>price</th>\n",
       "      <th>high</th>\n",
       "      <th>low</th>\n",
       "      <th>volume</th>\n",
       "      <th>code</th>\n",
       "      <th>SMA_10</th>\n",
       "      <th>SMA_60</th>\n",
       "    </tr>\n",
       "    <tr>\n",
       "      <th>date</th>\n",
       "      <th></th>\n",
       "      <th></th>\n",
       "      <th></th>\n",
       "      <th></th>\n",
       "      <th></th>\n",
       "      <th></th>\n",
       "      <th></th>\n",
       "      <th></th>\n",
       "    </tr>\n",
       "  </thead>\n",
       "  <tbody>\n",
       "    <tr>\n",
       "      <th>2021-12-27</th>\n",
       "      <td>4918.15</td>\n",
       "      <td>4919.32</td>\n",
       "      <td>4939.69</td>\n",
       "      <td>4894.16</td>\n",
       "      <td>124100952.0</td>\n",
       "      <td>hs300</td>\n",
       "      <td>4954.285</td>\n",
       "      <td>4910.477167</td>\n",
       "    </tr>\n",
       "    <tr>\n",
       "      <th>2021-12-28</th>\n",
       "      <td>4923.69</td>\n",
       "      <td>4955.96</td>\n",
       "      <td>4959.14</td>\n",
       "      <td>4913.60</td>\n",
       "      <td>130457757.0</td>\n",
       "      <td>hs300</td>\n",
       "      <td>4944.911</td>\n",
       "      <td>4911.679333</td>\n",
       "    </tr>\n",
       "    <tr>\n",
       "      <th>2021-12-29</th>\n",
       "      <td>4958.65</td>\n",
       "      <td>4883.48</td>\n",
       "      <td>4958.65</td>\n",
       "      <td>4883.48</td>\n",
       "      <td>113587002.0</td>\n",
       "      <td>hs300</td>\n",
       "      <td>4932.669</td>\n",
       "      <td>4912.505167</td>\n",
       "    </tr>\n",
       "    <tr>\n",
       "      <th>2021-12-30</th>\n",
       "      <td>4882.16</td>\n",
       "      <td>4921.51</td>\n",
       "      <td>4940.18</td>\n",
       "      <td>4878.65</td>\n",
       "      <td>121617178.0</td>\n",
       "      <td>hs300</td>\n",
       "      <td>4921.347</td>\n",
       "      <td>4913.424000</td>\n",
       "    </tr>\n",
       "    <tr>\n",
       "      <th>2021-12-31</th>\n",
       "      <td>4937.46</td>\n",
       "      <td>4940.37</td>\n",
       "      <td>4950.36</td>\n",
       "      <td>4923.14</td>\n",
       "      <td>121313737.0</td>\n",
       "      <td>hs300</td>\n",
       "      <td>4919.908</td>\n",
       "      <td>4913.597833</td>\n",
       "    </tr>\n",
       "  </tbody>\n",
       "</table>\n",
       "</div>"
      ],
      "text/plain": [
       "               open    price     high      low       volume   code    SMA_10  \\\n",
       "date                                                                           \n",
       "2021-12-27  4918.15  4919.32  4939.69  4894.16  124100952.0  hs300  4954.285   \n",
       "2021-12-28  4923.69  4955.96  4959.14  4913.60  130457757.0  hs300  4944.911   \n",
       "2021-12-29  4958.65  4883.48  4958.65  4883.48  113587002.0  hs300  4932.669   \n",
       "2021-12-30  4882.16  4921.51  4940.18  4878.65  121617178.0  hs300  4921.347   \n",
       "2021-12-31  4937.46  4940.37  4950.36  4923.14  121313737.0  hs300  4919.908   \n",
       "\n",
       "                 SMA_60  \n",
       "date                     \n",
       "2021-12-27  4910.477167  \n",
       "2021-12-28  4911.679333  \n",
       "2021-12-29  4912.505167  \n",
       "2021-12-30  4913.424000  \n",
       "2021-12-31  4913.597833  "
      ]
     },
     "execution_count": 23,
     "metadata": {},
     "output_type": "execute_result"
    }
   ],
   "source": [
    "data.tail()"
   ]
  },
  {
   "cell_type": "code",
   "execution_count": 24,
   "id": "192926bb",
   "metadata": {},
   "outputs": [
    {
     "data": {
      "text/plain": [
       "<AxesSubplot:title={'center':'HS300 stock price | 10 & 60 days SMAs'}, xlabel='date'>"
      ]
     },
     "execution_count": 24,
     "metadata": {},
     "output_type": "execute_result"
    },
    {
     "data": {
      "image/png": "[encoded data removed]",
      "text/plain": [
       "<Figure size 720x432 with 1 Axes>"
      ]
     },
     "metadata": {
      "needs_background": "light"
     },
     "output_type": "display_data"
    }
   ],
   "source": [
    "data[['price','SMA_10','SMA_60']].plot(title='HS300 stock price | 10 & 60 days SMAs',\n",
    "                                       figsize=(10, 6))"
   ]
  },
  {
   "cell_type": "markdown",
   "id": "59352a63",
   "metadata": {},
   "source": [
    "<h2>2.策略开发思路"
   ]
  },
  {
   "cell_type": "code",
   "execution_count": 25,
   "id": "683dd319",
   "metadata": {},
   "outputs": [],
   "source": [
    "#至关重要的一步\n",
    "data['position'] = np.where(data['SMA_10'] > data['SMA_60'],1,0)\n",
    "#如果短线上穿长线即短线大于长线，做多，其余时间，平仓"
   ]
  },
  {
   "cell_type": "code",
   "execution_count": 26,
   "id": "2dc9f3b9",
   "metadata": {},
   "outputs": [],
   "source": [
    "data.dropna(inplace = True)"
   ]
  },
  {
   "cell_type": "code",
   "execution_count": 27,
   "id": "81317c97",
   "metadata": {},
   "outputs": [
    {
     "data": {
      "text/plain": [
       "<AxesSubplot:title={'center':'Market Postioning'}, xlabel='date'>"
      ]
     },
     "execution_count": 27,
     "metadata": {},
     "output_type": "execute_result"
    },
    {
     "data": {
      "image/png": "[encoded data removed]",
      "text/plain": [
       "<Figure size 720x432 with 1 Axes>"
      ]
     },
     "metadata": {
      "needs_background": "light"
     },
     "output_type": "display_data"
    }
   ],
   "source": [
    "data['position'].plot(ylim=[-1.1, 1.1], title = 'Market Postioning',figsize=(10, 6))"
   ]
  },
  {
   "cell_type": "markdown",
   "id": "0b2cdc44",
   "metadata": {},
   "source": [
    "<h2>3.计算策略年化收益并可视化"
   ]
  },
  {
   "cell_type": "code",
   "execution_count": 28,
   "id": "bff5fc10",
   "metadata": {},
   "outputs": [],
   "source": [
    "data['returns'] = np.log(data['price'] / data['price'].shift(1))   #很重要"
   ]
  },
  {
   "cell_type": "code",
   "execution_count": 29,
   "id": "d334f164",
   "metadata": {},
   "outputs": [
    {
     "data": {
      "text/html": [
       "<div>\n",
       "<style scoped>\n",
       "    .dataframe tbody tr th:only-of-type {\n",
       "        vertical-align: middle;\n",
       "    }\n",
       "\n",
       "    .dataframe tbody tr th {\n",
       "        vertical-align: top;\n",
       "    }\n",
       "\n",
       "    .dataframe thead th {\n",
       "        text-align: right;\n",
       "    }\n",
       "</style>\n",
       "<table border=\"1\" class=\"dataframe\">\n",
       "  <thead>\n",
       "    <tr style=\"text-align: right;\">\n",
       "      <th></th>\n",
       "      <th>open</th>\n",
       "      <th>price</th>\n",
       "      <th>high</th>\n",
       "      <th>low</th>\n",
       "      <th>volume</th>\n",
       "      <th>code</th>\n",
       "      <th>SMA_10</th>\n",
       "      <th>SMA_60</th>\n",
       "      <th>position</th>\n",
       "      <th>returns</th>\n",
       "    </tr>\n",
       "    <tr>\n",
       "      <th>date</th>\n",
       "      <th></th>\n",
       "      <th></th>\n",
       "      <th></th>\n",
       "      <th></th>\n",
       "      <th></th>\n",
       "      <th></th>\n",
       "      <th></th>\n",
       "      <th></th>\n",
       "      <th></th>\n",
       "      <th></th>\n",
       "    </tr>\n",
       "  </thead>\n",
       "  <tbody>\n",
       "    <tr>\n",
       "      <th>2021-12-27</th>\n",
       "      <td>4918.15</td>\n",
       "      <td>4919.32</td>\n",
       "      <td>4939.69</td>\n",
       "      <td>4894.16</td>\n",
       "      <td>124100952.0</td>\n",
       "      <td>hs300</td>\n",
       "      <td>4954.285</td>\n",
       "      <td>4910.477167</td>\n",
       "      <td>1</td>\n",
       "      <td>-0.000411</td>\n",
       "    </tr>\n",
       "    <tr>\n",
       "      <th>2021-12-28</th>\n",
       "      <td>4923.69</td>\n",
       "      <td>4955.96</td>\n",
       "      <td>4959.14</td>\n",
       "      <td>4913.60</td>\n",
       "      <td>130457757.0</td>\n",
       "      <td>hs300</td>\n",
       "      <td>4944.911</td>\n",
       "      <td>4911.679333</td>\n",
       "      <td>1</td>\n",
       "      <td>0.007421</td>\n",
       "    </tr>\n",
       "    <tr>\n",
       "      <th>2021-12-29</th>\n",
       "      <td>4958.65</td>\n",
       "      <td>4883.48</td>\n",
       "      <td>4958.65</td>\n",
       "      <td>4883.48</td>\n",
       "      <td>113587002.0</td>\n",
       "      <td>hs300</td>\n",
       "      <td>4932.669</td>\n",
       "      <td>4912.505167</td>\n",
       "      <td>1</td>\n",
       "      <td>-0.014733</td>\n",
       "    </tr>\n",
       "    <tr>\n",
       "      <th>2021-12-30</th>\n",
       "      <td>4882.16</td>\n",
       "      <td>4921.51</td>\n",
       "      <td>4940.18</td>\n",
       "      <td>4878.65</td>\n",
       "      <td>121617178.0</td>\n",
       "      <td>hs300</td>\n",
       "      <td>4921.347</td>\n",
       "      <td>4913.424000</td>\n",
       "      <td>1</td>\n",
       "      <td>0.007757</td>\n",
       "    </tr>\n",
       "    <tr>\n",
       "      <th>2021-12-31</th>\n",
       "      <td>4937.46</td>\n",
       "      <td>4940.37</td>\n",
       "      <td>4950.36</td>\n",
       "      <td>4923.14</td>\n",
       "      <td>121313737.0</td>\n",
       "      <td>hs300</td>\n",
       "      <td>4919.908</td>\n",
       "      <td>4913.597833</td>\n",
       "      <td>1</td>\n",
       "      <td>0.003825</td>\n",
       "    </tr>\n",
       "  </tbody>\n",
       "</table>\n",
       "</div>"
      ],
      "text/plain": [
       "               open    price     high      low       volume   code    SMA_10  \\\n",
       "date                                                                           \n",
       "2021-12-27  4918.15  4919.32  4939.69  4894.16  124100952.0  hs300  4954.285   \n",
       "2021-12-28  4923.69  4955.96  4959.14  4913.60  130457757.0  hs300  4944.911   \n",
       "2021-12-29  4958.65  4883.48  4958.65  4883.48  113587002.0  hs300  4932.669   \n",
       "2021-12-30  4882.16  4921.51  4940.18  4878.65  121617178.0  hs300  4921.347   \n",
       "2021-12-31  4937.46  4940.37  4950.36  4923.14  121313737.0  hs300  4919.908   \n",
       "\n",
       "                 SMA_60  position   returns  \n",
       "date                                         \n",
       "2021-12-27  4910.477167         1 -0.000411  \n",
       "2021-12-28  4911.679333         1  0.007421  \n",
       "2021-12-29  4912.505167         1 -0.014733  \n",
       "2021-12-30  4913.424000         1  0.007757  \n",
       "2021-12-31  4913.597833         1  0.003825  "
      ]
     },
     "execution_count": 29,
     "metadata": {},
     "output_type": "execute_result"
    }
   ],
   "source": [
    "data.tail()"
   ]
  },
  {
   "cell_type": "code",
   "execution_count": 30,
   "id": "c50044d1",
   "metadata": {},
   "outputs": [
    {
     "data": {
      "text/plain": [
       "<AxesSubplot:>"
      ]
     },
     "execution_count": 30,
     "metadata": {},
     "output_type": "execute_result"
    },
    {
     "data": {
      "image/png": "[encoded data removed]",
      "text/plain": [
       "<Figure size 432x288 with 1 Axes>"
      ]
     },
     "metadata": {
      "needs_background": "light"
     },
     "output_type": "display_data"
    }
   ],
   "source": [
    "data['returns'].hist(bins=35)"
   ]
  },
  {
   "cell_type": "code",
   "execution_count": 31,
   "id": "1c238e80",
   "metadata": {},
   "outputs": [],
   "source": [
    "#计算策略带来的回报率\n",
    "#我们使用的是未来函数\n",
    "data['strategy'] = data['position'].shift(1)*data['returns']"
   ]
  },
  {
   "cell_type": "code",
   "execution_count": 32,
   "id": "bf766506",
   "metadata": {},
   "outputs": [
    {
     "data": {
      "text/plain": [
       "returns    -0.043799\n",
       "strategy   -0.064504\n",
       "dtype: float64"
      ]
     },
     "execution_count": 32,
     "metadata": {},
     "output_type": "execute_result"
    }
   ],
   "source": [
    "data[['returns','strategy']].sum()"
   ]
  },
  {
   "cell_type": "code",
   "execution_count": 33,
   "id": "73704f7a",
   "metadata": {},
   "outputs": [
    {
     "data": {
      "text/plain": [
       "<AxesSubplot:xlabel='date'>"
      ]
     },
     "execution_count": 33,
     "metadata": {},
     "output_type": "execute_result"
    },
    {
     "data": {
      "image/png": "[encoded data removed]",
      "text/plain": [
       "<Figure size 720x432 with 1 Axes>"
      ]
     },
     "metadata": {
      "needs_background": "light"
     },
     "output_type": "display_data"
    }
   ],
   "source": [
    "data[['returns', 'strategy']].cumsum().apply(np.exp).plot(figsize=(10, 6))   #可视化；离散的计算方法参考Momoentum策略"
   ]
  },
  {
   "cell_type": "markdown",
   "id": "4d736275",
   "metadata": {},
   "source": [
    "<h2>4.策略收益风险评估"
   ]
  },
  {
   "cell_type": "code",
   "execution_count": 34,
   "id": "6aae1a00",
   "metadata": {},
   "outputs": [
    {
     "data": {
      "text/plain": [
       "returns    -0.060313\n",
       "strategy   -0.088825\n",
       "dtype: float64"
      ]
     },
     "execution_count": 34,
     "metadata": {},
     "output_type": "execute_result"
    }
   ],
   "source": [
    "data[['returns', 'strategy']].mean() * 252     #年化收益率；"
   ]
  },
  {
   "cell_type": "code",
   "execution_count": 35,
   "id": "44c4316e",
   "metadata": {},
   "outputs": [
    {
     "data": {
      "text/plain": [
       "returns     0.159675\n",
       "strategy    0.084970\n",
       "dtype: float64"
      ]
     },
     "execution_count": 35,
     "metadata": {},
     "output_type": "execute_result"
    }
   ],
   "source": [
    "data[['returns', 'strategy']].std() * 252 ** 0.5   #年化风险；"
   ]
  },
  {
   "cell_type": "code",
   "execution_count": 36,
   "id": "464df8b1",
   "metadata": {},
   "outputs": [],
   "source": [
    "data['cumret'] = data['strategy'].cumsum().apply(np.exp) #复利收益"
   ]
  },
  {
   "cell_type": "code",
   "execution_count": 37,
   "id": "3be7c74a",
   "metadata": {},
   "outputs": [],
   "source": [
    "data['cummax'] = data['cumret'].cummax()"
   ]
  },
  {
   "cell_type": "code",
   "execution_count": 38,
   "id": "1d97ea53",
   "metadata": {},
   "outputs": [
    {
     "data": {
      "text/html": [
       "<div>\n",
       "<style scoped>\n",
       "    .dataframe tbody tr th:only-of-type {\n",
       "        vertical-align: middle;\n",
       "    }\n",
       "\n",
       "    .dataframe tbody tr th {\n",
       "        vertical-align: top;\n",
       "    }\n",
       "\n",
       "    .dataframe thead th {\n",
       "        text-align: right;\n",
       "    }\n",
       "</style>\n",
       "<table border=\"1\" class=\"dataframe\">\n",
       "  <thead>\n",
       "    <tr style=\"text-align: right;\">\n",
       "      <th></th>\n",
       "      <th>open</th>\n",
       "      <th>price</th>\n",
       "      <th>high</th>\n",
       "      <th>low</th>\n",
       "      <th>volume</th>\n",
       "      <th>code</th>\n",
       "      <th>SMA_10</th>\n",
       "      <th>SMA_60</th>\n",
       "      <th>position</th>\n",
       "      <th>returns</th>\n",
       "      <th>strategy</th>\n",
       "      <th>cumret</th>\n",
       "      <th>cummax</th>\n",
       "    </tr>\n",
       "    <tr>\n",
       "      <th>date</th>\n",
       "      <th></th>\n",
       "      <th></th>\n",
       "      <th></th>\n",
       "      <th></th>\n",
       "      <th></th>\n",
       "      <th></th>\n",
       "      <th></th>\n",
       "      <th></th>\n",
       "      <th></th>\n",
       "      <th></th>\n",
       "      <th></th>\n",
       "      <th></th>\n",
       "      <th></th>\n",
       "    </tr>\n",
       "  </thead>\n",
       "  <tbody>\n",
       "    <tr>\n",
       "      <th>2021-12-27</th>\n",
       "      <td>4918.15</td>\n",
       "      <td>4919.32</td>\n",
       "      <td>4939.69</td>\n",
       "      <td>4894.16</td>\n",
       "      <td>124100952.0</td>\n",
       "      <td>hs300</td>\n",
       "      <td>4954.285</td>\n",
       "      <td>4910.477167</td>\n",
       "      <td>1</td>\n",
       "      <td>-0.000411</td>\n",
       "      <td>-0.000411</td>\n",
       "      <td>0.933538</td>\n",
       "      <td>1.036095</td>\n",
       "    </tr>\n",
       "    <tr>\n",
       "      <th>2021-12-28</th>\n",
       "      <td>4923.69</td>\n",
       "      <td>4955.96</td>\n",
       "      <td>4959.14</td>\n",
       "      <td>4913.60</td>\n",
       "      <td>130457757.0</td>\n",
       "      <td>hs300</td>\n",
       "      <td>4944.911</td>\n",
       "      <td>4911.679333</td>\n",
       "      <td>1</td>\n",
       "      <td>0.007421</td>\n",
       "      <td>0.007421</td>\n",
       "      <td>0.940491</td>\n",
       "      <td>1.036095</td>\n",
       "    </tr>\n",
       "    <tr>\n",
       "      <th>2021-12-29</th>\n",
       "      <td>4958.65</td>\n",
       "      <td>4883.48</td>\n",
       "      <td>4958.65</td>\n",
       "      <td>4883.48</td>\n",
       "      <td>113587002.0</td>\n",
       "      <td>hs300</td>\n",
       "      <td>4932.669</td>\n",
       "      <td>4912.505167</td>\n",
       "      <td>1</td>\n",
       "      <td>-0.014733</td>\n",
       "      <td>-0.014733</td>\n",
       "      <td>0.926736</td>\n",
       "      <td>1.036095</td>\n",
       "    </tr>\n",
       "    <tr>\n",
       "      <th>2021-12-30</th>\n",
       "      <td>4882.16</td>\n",
       "      <td>4921.51</td>\n",
       "      <td>4940.18</td>\n",
       "      <td>4878.65</td>\n",
       "      <td>121617178.0</td>\n",
       "      <td>hs300</td>\n",
       "      <td>4921.347</td>\n",
       "      <td>4913.424000</td>\n",
       "      <td>1</td>\n",
       "      <td>0.007757</td>\n",
       "      <td>0.007757</td>\n",
       "      <td>0.933953</td>\n",
       "      <td>1.036095</td>\n",
       "    </tr>\n",
       "    <tr>\n",
       "      <th>2021-12-31</th>\n",
       "      <td>4937.46</td>\n",
       "      <td>4940.37</td>\n",
       "      <td>4950.36</td>\n",
       "      <td>4923.14</td>\n",
       "      <td>121313737.0</td>\n",
       "      <td>hs300</td>\n",
       "      <td>4919.908</td>\n",
       "      <td>4913.597833</td>\n",
       "      <td>1</td>\n",
       "      <td>0.003825</td>\n",
       "      <td>0.003825</td>\n",
       "      <td>0.937532</td>\n",
       "      <td>1.036095</td>\n",
       "    </tr>\n",
       "  </tbody>\n",
       "</table>\n",
       "</div>"
      ],
      "text/plain": [
       "               open    price     high      low       volume   code    SMA_10  \\\n",
       "date                                                                           \n",
       "2021-12-27  4918.15  4919.32  4939.69  4894.16  124100952.0  hs300  4954.285   \n",
       "2021-12-28  4923.69  4955.96  4959.14  4913.60  130457757.0  hs300  4944.911   \n",
       "2021-12-29  4958.65  4883.48  4958.65  4883.48  113587002.0  hs300  4932.669   \n",
       "2021-12-30  4882.16  4921.51  4940.18  4878.65  121617178.0  hs300  4921.347   \n",
       "2021-12-31  4937.46  4940.37  4950.36  4923.14  121313737.0  hs300  4919.908   \n",
       "\n",
       "                 SMA_60  position   returns  strategy    cumret    cummax  \n",
       "date                                                                       \n",
       "2021-12-27  4910.477167         1 -0.000411 -0.000411  0.933538  1.036095  \n",
       "2021-12-28  4911.679333         1  0.007421  0.007421  0.940491  1.036095  \n",
       "2021-12-29  4912.505167         1 -0.014733 -0.014733  0.926736  1.036095  \n",
       "2021-12-30  4913.424000         1  0.007757  0.007757  0.933953  1.036095  \n",
       "2021-12-31  4913.597833         1  0.003825  0.003825  0.937532  1.036095  "
      ]
     },
     "execution_count": 38,
     "metadata": {},
     "output_type": "execute_result"
    }
   ],
   "source": [
    "data.tail()"
   ]
  },
  {
   "cell_type": "code",
   "execution_count": 39,
   "id": "ac6343e3",
   "metadata": {},
   "outputs": [
    {
     "data": {
      "text/plain": [
       "<AxesSubplot:xlabel='date'>"
      ]
     },
     "execution_count": 39,
     "metadata": {},
     "output_type": "execute_result"
    },
    {
     "data": {
      "image/png": "[encoded data removed]",
      "text/plain": [
       "<Figure size 720x432 with 1 Axes>"
      ]
     },
     "metadata": {
      "needs_background": "light"
     },
     "output_type": "display_data"
    }
   ],
   "source": [
    "data[['cumret', 'cummax']].plot(figsize=(10, 6))"
   ]
  },
  {
   "cell_type": "code",
   "execution_count": 40,
   "id": "96fb8df1",
   "metadata": {},
   "outputs": [],
   "source": [
    "drawdown = (data['cummax'] - data['cumret'])"
   ]
  },
  {
   "cell_type": "code",
   "execution_count": 41,
   "id": "764b4c5d",
   "metadata": {},
   "outputs": [
    {
     "data": {
      "text/plain": [
       "0.109939136839454"
      ]
     },
     "execution_count": 41,
     "metadata": {},
     "output_type": "execute_result"
    }
   ],
   "source": [
    "drawdown.max()           #计算原理：最大回撤；"
   ]
  },
  {
   "cell_type": "markdown",
   "id": "db95094d",
   "metadata": {},
   "source": [
    "<h2>5.策略优化"
   ]
  },
  {
   "cell_type": "code",
   "execution_count": 45,
   "id": "e2cd3244",
   "metadata": {},
   "outputs": [
    {
     "name": "stdout",
     "output_type": "stream",
     "text": [
      "本接口即将停止更新，请尽快使用Pro版接口：https://waditu.com/document/2\n"
     ]
    }
   ],
   "source": [
    "hs300 = ts.get_k_data('hs300','2021-01-01','2021-12-31')[['date','close']]"
   ]
  },
  {
   "cell_type": "code",
   "execution_count": 46,
   "id": "cd9b30f0",
   "metadata": {},
   "outputs": [
    {
     "data": {
      "text/html": [
       "<div>\n",
       "<style scoped>\n",
       "    .dataframe tbody tr th:only-of-type {\n",
       "        vertical-align: middle;\n",
       "    }\n",
       "\n",
       "    .dataframe tbody tr th {\n",
       "        vertical-align: top;\n",
       "    }\n",
       "\n",
       "    .dataframe thead th {\n",
       "        text-align: right;\n",
       "    }\n",
       "</style>\n",
       "<table border=\"1\" class=\"dataframe\">\n",
       "  <thead>\n",
       "    <tr style=\"text-align: right;\">\n",
       "      <th></th>\n",
       "      <th>price</th>\n",
       "    </tr>\n",
       "    <tr>\n",
       "      <th>date</th>\n",
       "      <th></th>\n",
       "    </tr>\n",
       "  </thead>\n",
       "  <tbody>\n",
       "    <tr>\n",
       "      <th>2021-01-04</th>\n",
       "      <td>5267.72</td>\n",
       "    </tr>\n",
       "    <tr>\n",
       "      <th>2021-01-05</th>\n",
       "      <td>5368.50</td>\n",
       "    </tr>\n",
       "    <tr>\n",
       "      <th>2021-01-06</th>\n",
       "      <td>5417.67</td>\n",
       "    </tr>\n",
       "    <tr>\n",
       "      <th>2021-01-07</th>\n",
       "      <td>5513.66</td>\n",
       "    </tr>\n",
       "    <tr>\n",
       "      <th>2021-01-08</th>\n",
       "      <td>5495.43</td>\n",
       "    </tr>\n",
       "  </tbody>\n",
       "</table>\n",
       "</div>"
      ],
      "text/plain": [
       "              price\n",
       "date               \n",
       "2021-01-04  5267.72\n",
       "2021-01-05  5368.50\n",
       "2021-01-06  5417.67\n",
       "2021-01-07  5513.66\n",
       "2021-01-08  5495.43"
      ]
     },
     "execution_count": 46,
     "metadata": {},
     "output_type": "execute_result"
    }
   ],
   "source": [
    "hs300.rename(columns={'close':'price'},inplace = True)\n",
    "hs300.set_index('date', inplace = True)\n",
    "hs300.head()"
   ]
  },
  {
   "cell_type": "code",
   "execution_count": 47,
   "id": "e0c866b8",
   "metadata": {},
   "outputs": [],
   "source": [
    "hs300['SMA_10'] = hs300['price'].rolling(10).mean()"
   ]
  },
  {
   "cell_type": "code",
   "execution_count": 48,
   "id": "28a94bef",
   "metadata": {},
   "outputs": [],
   "source": [
    "hs300['SMA_60'] = hs300['price'].rolling(60).mean()"
   ]
  },
  {
   "cell_type": "code",
   "execution_count": 49,
   "id": "f3148e4c",
   "metadata": {},
   "outputs": [
    {
     "data": {
      "text/html": [
       "<div>\n",
       "<style scoped>\n",
       "    .dataframe tbody tr th:only-of-type {\n",
       "        vertical-align: middle;\n",
       "    }\n",
       "\n",
       "    .dataframe tbody tr th {\n",
       "        vertical-align: top;\n",
       "    }\n",
       "\n",
       "    .dataframe thead th {\n",
       "        text-align: right;\n",
       "    }\n",
       "</style>\n",
       "<table border=\"1\" class=\"dataframe\">\n",
       "  <thead>\n",
       "    <tr style=\"text-align: right;\">\n",
       "      <th></th>\n",
       "      <th>price</th>\n",
       "      <th>SMA_10</th>\n",
       "      <th>SMA_60</th>\n",
       "    </tr>\n",
       "    <tr>\n",
       "      <th>date</th>\n",
       "      <th></th>\n",
       "      <th></th>\n",
       "      <th></th>\n",
       "    </tr>\n",
       "  </thead>\n",
       "  <tbody>\n",
       "    <tr>\n",
       "      <th>2021-12-27</th>\n",
       "      <td>4919.32</td>\n",
       "      <td>4954.285</td>\n",
       "      <td>4910.477167</td>\n",
       "    </tr>\n",
       "    <tr>\n",
       "      <th>2021-12-28</th>\n",
       "      <td>4955.96</td>\n",
       "      <td>4944.911</td>\n",
       "      <td>4911.679333</td>\n",
       "    </tr>\n",
       "    <tr>\n",
       "      <th>2021-12-29</th>\n",
       "      <td>4883.48</td>\n",
       "      <td>4932.669</td>\n",
       "      <td>4912.505167</td>\n",
       "    </tr>\n",
       "    <tr>\n",
       "      <th>2021-12-30</th>\n",
       "      <td>4921.51</td>\n",
       "      <td>4921.347</td>\n",
       "      <td>4913.424000</td>\n",
       "    </tr>\n",
       "    <tr>\n",
       "      <th>2021-12-31</th>\n",
       "      <td>4940.37</td>\n",
       "      <td>4919.908</td>\n",
       "      <td>4913.597833</td>\n",
       "    </tr>\n",
       "  </tbody>\n",
       "</table>\n",
       "</div>"
      ],
      "text/plain": [
       "              price    SMA_10       SMA_60\n",
       "date                                      \n",
       "2021-12-27  4919.32  4954.285  4910.477167\n",
       "2021-12-28  4955.96  4944.911  4911.679333\n",
       "2021-12-29  4883.48  4932.669  4912.505167\n",
       "2021-12-30  4921.51  4921.347  4913.424000\n",
       "2021-12-31  4940.37  4919.908  4913.597833"
      ]
     },
     "execution_count": 49,
     "metadata": {},
     "output_type": "execute_result"
    }
   ],
   "source": [
    "hs300[['price', 'SMA_10', 'SMA_60']].tail()"
   ]
  },
  {
   "cell_type": "code",
   "execution_count": 50,
   "id": "b5393227",
   "metadata": {},
   "outputs": [
    {
     "data": {
      "text/plain": [
       "<AxesSubplot:xlabel='date'>"
      ]
     },
     "execution_count": 50,
     "metadata": {},
     "output_type": "execute_result"
    },
    {
     "data": {
      "image/png": "[encoded data removed]",
      "text/plain": [
       "<Figure size 720x576 with 1 Axes>"
      ]
     },
     "metadata": {
      "needs_background": "light"
     },
     "output_type": "display_data"
    }
   ],
   "source": [
    "hs300[['price', 'SMA_10', 'SMA_60']].plot(grid=True, figsize = (10,8))"
   ]
  },
  {
   "cell_type": "code",
   "execution_count": 52,
   "id": "14fdd92b",
   "metadata": {},
   "outputs": [
    {
     "data": {
      "text/plain": [
       "date\n",
       "2021-12-27    43.807833\n",
       "2021-12-28    33.231667\n",
       "2021-12-29    20.163833\n",
       "2021-12-30     7.923000\n",
       "2021-12-31     6.310167\n",
       "Name: 10-60, dtype: float64"
      ]
     },
     "execution_count": 52,
     "metadata": {},
     "output_type": "execute_result"
    }
   ],
   "source": [
    "hs300['10-60'] = hs300['SMA_10'] - hs300['SMA_60']\n",
    "hs300['10-60'].tail()"
   ]
  },
  {
   "cell_type": "code",
   "execution_count": 60,
   "id": "b7ba88f3",
   "metadata": {},
   "outputs": [
    {
     "data": {
      "text/plain": [
       "-1    101\n",
       " 0     98\n",
       " 1     44\n",
       "Name: regime, dtype: int64"
      ]
     },
     "execution_count": 60,
     "metadata": {},
     "output_type": "execute_result"
    }
   ],
   "source": [
    "#重点   \n",
    "SD = 20  #阀值\n",
    "#如果10日均线比60日均线高出阀值，则买入持多单，否则，不持仓\n",
    "hs300['regime'] = np.where(hs300['10-60']>SD,1,0)\n",
    "#如果10日均线比60日均线低出阀值，则开空单，否则继续持仓\n",
    "hs300['regime'] = np.where(hs300['10-60']<-SD,-1,hs300['regime'])\n",
    "hs300['regime'].value_counts()"
   ]
  },
  {
   "cell_type": "code",
   "execution_count": 61,
   "id": "3762bc46",
   "metadata": {},
   "outputs": [
    {
     "data": {
      "text/html": [
       "<div>\n",
       "<style scoped>\n",
       "    .dataframe tbody tr th:only-of-type {\n",
       "        vertical-align: middle;\n",
       "    }\n",
       "\n",
       "    .dataframe tbody tr th {\n",
       "        vertical-align: top;\n",
       "    }\n",
       "\n",
       "    .dataframe thead th {\n",
       "        text-align: right;\n",
       "    }\n",
       "</style>\n",
       "<table border=\"1\" class=\"dataframe\">\n",
       "  <thead>\n",
       "    <tr style=\"text-align: right;\">\n",
       "      <th></th>\n",
       "      <th>price</th>\n",
       "      <th>SMA_10</th>\n",
       "      <th>SMA_60</th>\n",
       "      <th>10-60</th>\n",
       "      <th>regime</th>\n",
       "      <th>Market</th>\n",
       "      <th>Strategy</th>\n",
       "    </tr>\n",
       "    <tr>\n",
       "      <th>date</th>\n",
       "      <th></th>\n",
       "      <th></th>\n",
       "      <th></th>\n",
       "      <th></th>\n",
       "      <th></th>\n",
       "      <th></th>\n",
       "      <th></th>\n",
       "    </tr>\n",
       "  </thead>\n",
       "  <tbody>\n",
       "    <tr>\n",
       "      <th>2021-12-06</th>\n",
       "      <td>4892.62</td>\n",
       "      <td>4876.368</td>\n",
       "      <td>4891.949500</td>\n",
       "      <td>-15.581500</td>\n",
       "      <td>0</td>\n",
       "      <td>-0.001715</td>\n",
       "      <td>-0.000000</td>\n",
       "    </tr>\n",
       "    <tr>\n",
       "      <th>2021-12-07</th>\n",
       "      <td>4922.10</td>\n",
       "      <td>4877.243</td>\n",
       "      <td>4893.266833</td>\n",
       "      <td>-16.023833</td>\n",
       "      <td>0</td>\n",
       "      <td>0.006007</td>\n",
       "      <td>0.000000</td>\n",
       "    </tr>\n",
       "    <tr>\n",
       "      <th>2021-12-08</th>\n",
       "      <td>4995.93</td>\n",
       "      <td>4885.170</td>\n",
       "      <td>4894.303500</td>\n",
       "      <td>-9.133500</td>\n",
       "      <td>0</td>\n",
       "      <td>0.014888</td>\n",
       "      <td>0.000000</td>\n",
       "    </tr>\n",
       "    <tr>\n",
       "      <th>2021-12-09</th>\n",
       "      <td>5078.69</td>\n",
       "      <td>4903.395</td>\n",
       "      <td>4895.734500</td>\n",
       "      <td>7.660500</td>\n",
       "      <td>0</td>\n",
       "      <td>0.016430</td>\n",
       "      <td>0.000000</td>\n",
       "    </tr>\n",
       "    <tr>\n",
       "      <th>2021-12-10</th>\n",
       "      <td>5055.12</td>\n",
       "      <td>4922.894</td>\n",
       "      <td>4897.117667</td>\n",
       "      <td>25.776333</td>\n",
       "      <td>1</td>\n",
       "      <td>-0.004652</td>\n",
       "      <td>-0.000000</td>\n",
       "    </tr>\n",
       "    <tr>\n",
       "      <th>2021-12-13</th>\n",
       "      <td>5083.80</td>\n",
       "      <td>4946.132</td>\n",
       "      <td>4899.014167</td>\n",
       "      <td>47.117833</td>\n",
       "      <td>1</td>\n",
       "      <td>0.005657</td>\n",
       "      <td>0.005657</td>\n",
       "    </tr>\n",
       "    <tr>\n",
       "      <th>2021-12-14</th>\n",
       "      <td>5049.70</td>\n",
       "      <td>4967.899</td>\n",
       "      <td>4899.617167</td>\n",
       "      <td>68.281833</td>\n",
       "      <td>1</td>\n",
       "      <td>-0.006730</td>\n",
       "      <td>-0.006730</td>\n",
       "    </tr>\n",
       "    <tr>\n",
       "      <th>2021-12-15</th>\n",
       "      <td>5005.90</td>\n",
       "      <td>4984.104</td>\n",
       "      <td>4899.854500</td>\n",
       "      <td>84.249500</td>\n",
       "      <td>1</td>\n",
       "      <td>-0.008712</td>\n",
       "      <td>-0.008712</td>\n",
       "    </tr>\n",
       "    <tr>\n",
       "      <th>2021-12-16</th>\n",
       "      <td>5034.73</td>\n",
       "      <td>5001.961</td>\n",
       "      <td>4901.814000</td>\n",
       "      <td>100.147000</td>\n",
       "      <td>1</td>\n",
       "      <td>0.005743</td>\n",
       "      <td>0.005743</td>\n",
       "    </tr>\n",
       "    <tr>\n",
       "      <th>2021-12-17</th>\n",
       "      <td>4954.76</td>\n",
       "      <td>5007.335</td>\n",
       "      <td>4903.271333</td>\n",
       "      <td>104.063667</td>\n",
       "      <td>1</td>\n",
       "      <td>-0.016011</td>\n",
       "      <td>-0.016011</td>\n",
       "    </tr>\n",
       "    <tr>\n",
       "      <th>2021-12-20</th>\n",
       "      <td>4880.42</td>\n",
       "      <td>5006.115</td>\n",
       "      <td>4904.483333</td>\n",
       "      <td>101.631667</td>\n",
       "      <td>1</td>\n",
       "      <td>-0.015117</td>\n",
       "      <td>-0.015117</td>\n",
       "    </tr>\n",
       "    <tr>\n",
       "      <th>2021-12-21</th>\n",
       "      <td>4913.49</td>\n",
       "      <td>5005.254</td>\n",
       "      <td>4905.442500</td>\n",
       "      <td>99.811500</td>\n",
       "      <td>1</td>\n",
       "      <td>0.006753</td>\n",
       "      <td>0.006753</td>\n",
       "    </tr>\n",
       "    <tr>\n",
       "      <th>2021-12-22</th>\n",
       "      <td>4914.45</td>\n",
       "      <td>4997.106</td>\n",
       "      <td>4906.987167</td>\n",
       "      <td>90.118833</td>\n",
       "      <td>1</td>\n",
       "      <td>0.000195</td>\n",
       "      <td>0.000195</td>\n",
       "    </tr>\n",
       "    <tr>\n",
       "      <th>2021-12-23</th>\n",
       "      <td>4948.74</td>\n",
       "      <td>4984.111</td>\n",
       "      <td>4908.579500</td>\n",
       "      <td>75.531500</td>\n",
       "      <td>1</td>\n",
       "      <td>0.006953</td>\n",
       "      <td>0.006953</td>\n",
       "    </tr>\n",
       "    <tr>\n",
       "      <th>2021-12-24</th>\n",
       "      <td>4921.34</td>\n",
       "      <td>4970.733</td>\n",
       "      <td>4909.778000</td>\n",
       "      <td>60.955000</td>\n",
       "      <td>1</td>\n",
       "      <td>-0.005552</td>\n",
       "      <td>-0.005552</td>\n",
       "    </tr>\n",
       "    <tr>\n",
       "      <th>2021-12-27</th>\n",
       "      <td>4919.32</td>\n",
       "      <td>4954.285</td>\n",
       "      <td>4910.477167</td>\n",
       "      <td>43.807833</td>\n",
       "      <td>1</td>\n",
       "      <td>-0.000411</td>\n",
       "      <td>-0.000411</td>\n",
       "    </tr>\n",
       "    <tr>\n",
       "      <th>2021-12-28</th>\n",
       "      <td>4955.96</td>\n",
       "      <td>4944.911</td>\n",
       "      <td>4911.679333</td>\n",
       "      <td>33.231667</td>\n",
       "      <td>1</td>\n",
       "      <td>0.007421</td>\n",
       "      <td>0.007421</td>\n",
       "    </tr>\n",
       "    <tr>\n",
       "      <th>2021-12-29</th>\n",
       "      <td>4883.48</td>\n",
       "      <td>4932.669</td>\n",
       "      <td>4912.505167</td>\n",
       "      <td>20.163833</td>\n",
       "      <td>1</td>\n",
       "      <td>-0.014733</td>\n",
       "      <td>-0.014733</td>\n",
       "    </tr>\n",
       "    <tr>\n",
       "      <th>2021-12-30</th>\n",
       "      <td>4921.51</td>\n",
       "      <td>4921.347</td>\n",
       "      <td>4913.424000</td>\n",
       "      <td>7.923000</td>\n",
       "      <td>0</td>\n",
       "      <td>0.007757</td>\n",
       "      <td>0.007757</td>\n",
       "    </tr>\n",
       "    <tr>\n",
       "      <th>2021-12-31</th>\n",
       "      <td>4940.37</td>\n",
       "      <td>4919.908</td>\n",
       "      <td>4913.597833</td>\n",
       "      <td>6.310167</td>\n",
       "      <td>0</td>\n",
       "      <td>0.003825</td>\n",
       "      <td>0.000000</td>\n",
       "    </tr>\n",
       "  </tbody>\n",
       "</table>\n",
       "</div>"
      ],
      "text/plain": [
       "              price    SMA_10       SMA_60       10-60  regime    Market  \\\n",
       "date                                                                       \n",
       "2021-12-06  4892.62  4876.368  4891.949500  -15.581500       0 -0.001715   \n",
       "2021-12-07  4922.10  4877.243  4893.266833  -16.023833       0  0.006007   \n",
       "2021-12-08  4995.93  4885.170  4894.303500   -9.133500       0  0.014888   \n",
       "2021-12-09  5078.69  4903.395  4895.734500    7.660500       0  0.016430   \n",
       "2021-12-10  5055.12  4922.894  4897.117667   25.776333       1 -0.004652   \n",
       "2021-12-13  5083.80  4946.132  4899.014167   47.117833       1  0.005657   \n",
       "2021-12-14  5049.70  4967.899  4899.617167   68.281833       1 -0.006730   \n",
       "2021-12-15  5005.90  4984.104  4899.854500   84.249500       1 -0.008712   \n",
       "2021-12-16  5034.73  5001.961  4901.814000  100.147000       1  0.005743   \n",
       "2021-12-17  4954.76  5007.335  4903.271333  104.063667       1 -0.016011   \n",
       "2021-12-20  4880.42  5006.115  4904.483333  101.631667       1 -0.015117   \n",
       "2021-12-21  4913.49  5005.254  4905.442500   99.811500       1  0.006753   \n",
       "2021-12-22  4914.45  4997.106  4906.987167   90.118833       1  0.000195   \n",
       "2021-12-23  4948.74  4984.111  4908.579500   75.531500       1  0.006953   \n",
       "2021-12-24  4921.34  4970.733  4909.778000   60.955000       1 -0.005552   \n",
       "2021-12-27  4919.32  4954.285  4910.477167   43.807833       1 -0.000411   \n",
       "2021-12-28  4955.96  4944.911  4911.679333   33.231667       1  0.007421   \n",
       "2021-12-29  4883.48  4932.669  4912.505167   20.163833       1 -0.014733   \n",
       "2021-12-30  4921.51  4921.347  4913.424000    7.923000       0  0.007757   \n",
       "2021-12-31  4940.37  4919.908  4913.597833    6.310167       0  0.003825   \n",
       "\n",
       "            Strategy  \n",
       "date                  \n",
       "2021-12-06 -0.000000  \n",
       "2021-12-07  0.000000  \n",
       "2021-12-08  0.000000  \n",
       "2021-12-09  0.000000  \n",
       "2021-12-10 -0.000000  \n",
       "2021-12-13  0.005657  \n",
       "2021-12-14 -0.006730  \n",
       "2021-12-15 -0.008712  \n",
       "2021-12-16  0.005743  \n",
       "2021-12-17 -0.016011  \n",
       "2021-12-20 -0.015117  \n",
       "2021-12-21  0.006753  \n",
       "2021-12-22  0.000195  \n",
       "2021-12-23  0.006953  \n",
       "2021-12-24 -0.005552  \n",
       "2021-12-27 -0.000411  \n",
       "2021-12-28  0.007421  \n",
       "2021-12-29 -0.014733  \n",
       "2021-12-30  0.007757  \n",
       "2021-12-31  0.000000  "
      ]
     },
     "execution_count": 61,
     "metadata": {},
     "output_type": "execute_result"
    }
   ],
   "source": [
    "hs300.tail(20)"
   ]
  },
  {
   "cell_type": "code",
   "execution_count": 62,
   "id": "b4e746d5",
   "metadata": {},
   "outputs": [],
   "source": [
    "hs300['Market'] = np.log(hs300['price'] / hs300['price'].shift(1))"
   ]
  },
  {
   "cell_type": "code",
   "execution_count": 63,
   "id": "63107bef",
   "metadata": {},
   "outputs": [],
   "source": [
    "hs300['Strategy'] = hs300['regime'].shift(1) * hs300['Market']"
   ]
  },
  {
   "cell_type": "code",
   "execution_count": 64,
   "id": "c5fa08d8",
   "metadata": {},
   "outputs": [
    {
     "data": {
      "text/plain": [
       "<AxesSubplot:xlabel='date'>"
      ]
     },
     "execution_count": 64,
     "metadata": {},
     "output_type": "execute_result"
    },
    {
     "data": {
      "image/png": "[encoded data removed]",
      "text/plain": [
       "<Figure size 720x576 with 1 Axes>"
      ]
     },
     "metadata": {
      "needs_background": "light"
     },
     "output_type": "display_data"
    }
   ],
   "source": [
    "hs300[['Market','Strategy']].cumsum().apply(np.exp).plot(grid=True, figsize = (10,8))"
   ]
  },
  {
   "cell_type": "code",
   "execution_count": null,
   "id": "143a0a7d",
   "metadata": {},
   "outputs": [],
   "source": []
  }
 ],
 "metadata": {
  "kernelspec": {
   "display_name": "Python 3",
   "language": "python",
   "name": "python3"
  },
  "language_info": {
   "codemirror_mode": {
    "name": "ipython",
    "version": 3
   },
   "file_extension": ".py",
   "mimetype": "text/x-python",
   "name": "python",
   "nbconvert_exporter": "python",
   "pygments_lexer": "ipython3",
   "version": "3.8.8"
  }
 },
 "nbformat": 4,
 "nbformat_minor": 5
}
